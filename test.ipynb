{
 "cells": [
  {
   "cell_type": "code",
   "execution_count": 1,
   "metadata": {},
   "outputs": [],
   "source": [
    "import mxnet as mx\n",
    "from mxnet import gluon\n",
    "from mxnet.gluon import nn\n",
    "from mxnet import autograd as ag\n",
    "from mxnet import ndarray as nd\n",
    "from Algorithm.CNN import CNN_Model\n",
    "from Algorithm.MLP import MLP\n",
    "from Tools import utils\n",
    "import numpy as np\n",
    "import copy\n",
    "import random"
   ]
  },
  {
   "cell_type": "code",
   "execution_count": 2,
   "metadata": {},
   "outputs": [],
   "source": [
    "ctx = utils.try_all_gpus()\n",
    "net0 = MLP()\n",
    "net0.initialize(init=mx.init.Xavier(),ctx=ctx)\n",
    "x = nd.random.uniform(0,255,shape=(1,28,28),ctx=ctx[0])\n",
    "net0(x)\n",
    "net1 = MLP()\n",
    "net1.initialize(init=mx.init.Xavier(),ctx=ctx)\n",
    "net1(x)\n",
    "net = MLP()\n",
    "net.initialize(init=mx.init.Xavier(),ctx=ctx)"
   ]
  },
  {
   "cell_type": "code",
   "execution_count": 3,
   "metadata": {},
   "outputs": [],
   "source": [
    "def zero_net(net,ctx):\n",
    "    net.initialize(mx.init.Xavier(),ctx=ctx)\n",
    "    x = nd.random.uniform(0,255,shape=(1,28,28),ctx=ctx[0])\n",
    "    net(x)\n",
    "    for layer in net:\n",
    "        try:\n",
    "            layer.weight.data()[:] = nd.zeros(shape=layer.weight.data().shape,ctx=ctx[0])[:]\n",
    "            layer.bias.data()[:] = nd.zeros(shape=layer.bias.data().shape,ctx=ctx[0])[:]\n",
    "        except:\n",
    "            pass\n",
    "def merge(net, net_a, net_b):\n",
    "    id = 0\n",
    "    for layer in net:\n",
    "        layer.weight.data()[:] = net_a[id].weight.data()[:] + net_b[id].weight.data()[:]\n",
    "        layer.weight.data()[:] /= 2\n",
    "        id += 1"
   ]
  },
  {
   "cell_type": "code",
   "execution_count": 4,
   "metadata": {},
   "outputs": [],
   "source": [
    "zero_net(net,ctx)"
   ]
  },
  {
   "cell_type": "code",
   "execution_count": 5,
   "metadata": {},
   "outputs": [],
   "source": [
    "merge(net, net0, net1)"
   ]
  },
  {
   "cell_type": "code",
   "execution_count": 10,
   "metadata": {},
   "outputs": [
    {
     "output_type": "execute_result",
     "data": {
      "text/plain": "\n[-0.04882678  0.23818293 -0.24821572 -0.16126832  0.10961187  0.03712472\n  0.03792918  0.20792401 -0.13360946  0.00510776  0.01323965  0.23732153\n -0.23124877  0.23984703  0.04325113 -0.23741527  0.24448195 -0.1265881\n -0.10332404 -0.2794188   0.09533933  0.19496202 -0.2096892   0.08381489\n  0.1231972   0.19441763 -0.11993213 -0.13398495 -0.18042088 -0.05819055\n  0.04926866  0.03008154 -0.27329624 -0.19081466  0.18732962 -0.0741436\n -0.28207335 -0.20134957  0.10126558  0.03964731 -0.13097927  0.1160273\n  0.13394177 -0.12046157  0.26321396 -0.0379921  -0.14308377  0.1458514\n  0.0433712  -0.05917148  0.0524174   0.2255418   0.04114708  0.07911482\n -0.15770356  0.22298822  0.25783822  0.1025407  -0.03011182 -0.02893162\n  0.19727793  0.27254364  0.1136024  -0.218571  ]\n<NDArray 64 @gpu(0)>"
     },
     "metadata": {},
     "execution_count": 10
    }
   ],
   "source": [
    "net0[2].weight.data()[0]"
   ]
  },
  {
   "cell_type": "code",
   "execution_count": 11,
   "metadata": {},
   "outputs": [
    {
     "output_type": "execute_result",
     "data": {
      "text/plain": "\n[ 0.1364229  -0.02727365 -0.00543365  0.26779732 -0.15523595  0.10281926\n -0.13989271 -0.23617202 -0.25170007 -0.25261745 -0.03734939 -0.00692636\n -0.10718127  0.21698013  0.11181659  0.27130982 -0.0696197   0.06700557\n -0.18246403  0.02420282 -0.27069297  0.20195061 -0.24644908  0.13886252\n  0.10216323 -0.01218927 -0.02636939  0.10084704  0.02083164  0.0609616\n  0.22590223  0.1222688   0.27924547 -0.01737121 -0.16122569 -0.02504945\n  0.09287217  0.23145297 -0.13478667 -0.20660108 -0.27298674 -0.15420818\n  0.14714527  0.21731094 -0.10249929  0.23031792 -0.0663667   0.08302358\n  0.05029613 -0.09984213  0.18853036  0.01122543  0.07345447 -0.28471586\n  0.2122226  -0.10714461 -0.12896663 -0.04245496  0.16973612  0.21944776\n -0.17902869  0.10244039  0.25786248 -0.02498388]\n<NDArray 64 @gpu(0)>"
     },
     "metadata": {},
     "execution_count": 11
    }
   ],
   "source": [
    "net1[2].weight.data()[0]"
   ]
  },
  {
   "cell_type": "code",
   "execution_count": 12,
   "metadata": {},
   "outputs": [
    {
     "output_type": "execute_result",
     "data": {
      "text/plain": "\n[ 0.04379806  0.10545464 -0.12682468  0.0532645  -0.02281204  0.06997199\n -0.05098177 -0.01412401 -0.19265476 -0.12375484 -0.01205487  0.11519758\n -0.16921502  0.22841358  0.07753386  0.01694728  0.08743113 -0.02979127\n -0.14289403 -0.12760799 -0.08767682  0.19845632 -0.22806914  0.1113387\n  0.11268021  0.09111418 -0.07315076 -0.01656896 -0.07979462  0.00138552\n  0.13758545  0.07617517  0.00297461 -0.10409293  0.01305196 -0.04959653\n -0.09460059  0.0150517  -0.01676054 -0.08347689 -0.201983   -0.01909044\n  0.14054352  0.04842468  0.08035734  0.09616291 -0.10472523  0.11443749\n  0.04683366 -0.07950681  0.12047388  0.11838362  0.05730078 -0.10280052\n  0.02725952  0.0579218   0.06443579  0.03004287  0.06981215  0.09525807\n  0.00912462  0.18749201  0.18573244 -0.12177745]\n<NDArray 64 @gpu(0)>"
     },
     "metadata": {},
     "execution_count": 12
    }
   ],
   "source": [
    "net[2].weight.data()[0]"
   ]
  },
  {
   "cell_type": "code",
   "execution_count": null,
   "metadata": {},
   "outputs": [],
   "source": []
  }
 ],
 "metadata": {
  "language_info": {
   "name": "python",
   "codemirror_mode": {
    "name": "ipython",
    "version": 3
   },
   "version": "3.7.4-final"
  },
  "orig_nbformat": 2,
  "file_extension": ".py",
  "mimetype": "text/x-python",
  "name": "python",
  "npconvert_exporter": "python",
  "pygments_lexer": "ipython3",
  "version": 3,
  "kernelspec": {
   "name": "python37464bit000112c82aae46049a43b9e45b233c07",
   "display_name": "Python 3.7.4 64-bit"
  }
 },
 "nbformat": 4,
 "nbformat_minor": 2
}