{
 "nbformat": 4,
 "nbformat_minor": 2,
 "metadata": {
  "language_info": {
   "name": "python",
   "codemirror_mode": {
    "name": "ipython",
    "version": 3
   },
   "version": "3.7.4-final"
  },
  "orig_nbformat": 2,
  "file_extension": ".py",
  "mimetype": "text/x-python",
  "name": "python",
  "npconvert_exporter": "python",
  "pygments_lexer": "ipython3",
  "version": 3,
  "kernelspec": {
   "name": "python37464bit000112c82aae46049a43b9e45b233c07",
   "display_name": "Python 3.7.4 64-bit"
  }
 },
 "cells": [
  {
   "cell_type": "code",
   "execution_count": 1,
   "metadata": {},
   "outputs": [],
   "source": [
    "import mxnet as mx\n",
    "from mxnet import gluon\n",
    "from mxnet.gluon import nn\n",
    "from mxnet import autograd as ag\n",
    "from mxnet import ndarray as nd\n",
    "from Algorithm.CNN import CNN_Model\n",
    "from Algorithm.MLP import MLP\n",
    "from Tools import utils\n",
    "LeNet = CNN_Model('LeNet')\n",
    "ctx = utils.try_all_gpus()\n",
    "LeNet.initialize(init=mx.initializer.Xavier(),ctx=ctx)"
   ]
  },
  {
   "cell_type": "code",
   "execution_count": 4,
   "metadata": {},
   "outputs": [],
   "source": [
    "import numpy as np\n",
    "train_data = np.load(\"train_data0.npy\")\n",
    "train_label = np.load(\"train_label0.npy\")\n",
    "batch_size = 100\n",
    "train_data = mx.io.NDArrayIter(train_data, train_label, batch_size, shuffle=True)"
   ]
  },
  {
   "cell_type": "code",
   "execution_count": 5,
   "metadata": {},
   "outputs": [],
   "source": [
    "def train(net, data, epoch):\n",
    "    trainer = gluon.Trainer(net.collect_params(), 'sgd', {'learning_rate': 0.02})\n",
    "    metric = mx.metric.Accuracy()\n",
    "    softmax_cross_entropy_loss = gluon.loss.SoftmaxCrossEntropyLoss()\n",
    "    for i in range(epoch):\n",
    "        train_data.reset()\n",
    "        for batch in train_data:\n",
    "            data = gluon.utils.split_and_load(batch.data[0], ctx_list=ctx, batch_axis=0)\n",
    "            label = gluon.utils.split_and_load(batch.label[0], ctx_list=ctx, batch_axis=0)\n",
    "            outputs = []\n",
    "            with ag.record():\n",
    "                for x, y in zip(data, label):\n",
    "                    z = net(x)\n",
    "                    loss = softmax_cross_entropy_loss(z, y)\n",
    "                    loss.backward()\n",
    "                    outputs.append(z)\n",
    "            metric.update(label, outputs)\n",
    "            trainer.step(batch.data[0].shape[0])\n",
    "        name, acc = metric.get()\n",
    "        metric.reset()\n",
    "        print('training acc at epoch %d: %s=%f'%(i, name, acc))"
   ]
  },
  {
   "cell_type": "code",
   "execution_count": 6,
   "metadata": {},
   "outputs": [
    {
     "output_type": "stream",
     "name": "stdout",
     "text": "training acc at epoch 0: accuracy=0.088333\ntraining acc at epoch 1: accuracy=0.090000\ntraining acc at epoch 2: accuracy=0.091667\ntraining acc at epoch 3: accuracy=0.096667\ntraining acc at epoch 4: accuracy=0.120000\ntraining acc at epoch 5: accuracy=0.176667\ntraining acc at epoch 6: accuracy=0.236667\ntraining acc at epoch 7: accuracy=0.285000\ntraining acc at epoch 8: accuracy=0.301667\ntraining acc at epoch 9: accuracy=0.368333\n"
    }
   ],
   "source": [
    "train(LeNet, train_data, 10)"
   ]
  },
  {
   "cell_type": "code",
   "execution_count": null,
   "metadata": {},
   "outputs": [],
   "source": []
  }
 ]
}