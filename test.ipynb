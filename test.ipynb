{
 "cells": [
  {
   "cell_type": "code",
   "execution_count": 1,
   "metadata": {},
   "outputs": [],
   "source": [
    "import mxnet as mx\n",
    "from mxnet import gluon\n",
    "from mxnet.gluon import nn\n",
    "from mxnet import autograd as ag\n",
    "from mxnet import ndarray as nd\n",
    "from Algorithm.CNN import CNN_Model\n",
    "from Algorithm.MLP import MLP\n",
    "from Tools import utils\n",
    "import numpy as np\n",
    "import copy\n",
    "import random"
   ]
  },
  {
   "cell_type": "code",
   "execution_count": 2,
   "metadata": {},
   "outputs": [],
   "source": [
    "ctx = utils.try_all_gpus()\n",
    "net0 = MLP()\n",
    "net0.initialize(init=mx.init.Xavier(),ctx=ctx)\n",
    "x = nd.random.uniform(0,255,shape=(1,28,28),ctx=ctx[0])\n",
    "net0(x)\n",
    "net1 = MLP()\n",
    "net1.initialize(init=mx.init.Xavier(),ctx=ctx)\n",
    "net1(x)\n",
    "net = MLP()\n",
    "net.initialize(init=mx.init.Xavier(),ctx=ctx)"
   ]
  },
  {
   "cell_type": "code",
   "execution_count": 3,
   "metadata": {},
   "outputs": [],
   "source": [
    "def zero_net(net,ctx):\n",
    "    net.initialize(mx.init.Xavier(),ctx=ctx)\n",
    "    x = nd.random.uniform(0,255,shape=(1,28,28),ctx=ctx[0])\n",
    "    net(x)\n",
    "    for layer in net:\n",
    "        try:\n",
    "            layer.weight.data()[:] = nd.zeros(shape=layer.weight.data().shape,ctx=ctx[0])[:]\n",
    "            layer.bias.data()[:] = nd.zeros(shape=layer.bias.data().shape,ctx=ctx[0])[:]\n",
    "        except:\n",
    "            pass\n",
    "def merge(net, net_a, net_b):\n",
    "    id = 0\n",
    "    for layer in net:\n",
    "        layer.weight.data()[:] = net_a[id].weight.data()[:] + net_b[id].weight.data()[:]\n",
    "        layer.weight.data()[:] /= 2\n",
    "        id += 1"
   ]
  },
  {
   "cell_type": "code",
   "execution_count": 2,
   "metadata": {},
   "outputs": [],
   "source": [
    "net = MLP()\n",
    "net.load_parameters(\"current_model.params\")"
   ]
  },
  {
   "cell_type": "code",
   "execution_count": 3,
   "metadata": {},
   "outputs": [
    {
     "output_type": "execute_result",
     "data": {
      "text/plain": "\n[[0. 0. 0. ... 0. 0. 0.]\n [0. 0. 0. ... 0. 0. 0.]\n [0. 0. 0. ... 0. 0. 0.]\n ...\n [0. 0. 0. ... 0. 0. 0.]\n [0. 0. 0. ... 0. 0. 0.]\n [0. 0. 0. ... 0. 0. 0.]]\n<NDArray 128x784 @cpu(0)>"
     },
     "metadata": {},
     "execution_count": 3
    }
   ],
   "source": [
    "net[0].weight.data()"
   ]
  },
  {
   "cell_type": "code",
   "execution_count": 4,
   "metadata": {},
   "outputs": [
    {
     "output_type": "execute_result",
     "data": {
      "text/plain": "\n[0. 0. 0. 0. 0. 0. 0. 0. 0. 0. 0. 0. 0. 0. 0. 0. 0. 0. 0. 0. 0. 0. 0. 0.\n 0. 0. 0. 0. 0. 0. 0. 0. 0. 0. 0. 0. 0. 0. 0. 0. 0. 0. 0. 0. 0. 0. 0. 0.\n 0. 0. 0. 0. 0. 0. 0. 0. 0. 0. 0. 0. 0. 0. 0. 0.]\n<NDArray 64 @cpu(0)>"
     },
     "metadata": {},
     "execution_count": 4
    }
   ],
   "source": [
    "net[2].weight.data()[0]"
   ]
  },
  {
   "cell_type": "code",
   "execution_count": 6,
   "metadata": {},
   "outputs": [
    {
     "output_type": "execute_result",
     "data": {
      "text/plain": "0.1"
     },
     "metadata": {},
     "execution_count": 6
    }
   ],
   "source": [
    "x = 0.5\n",
    "y = 4\n",
    "y+=1\n",
    "z = x/y\n",
    "z"
   ]
  },
  {
   "cell_type": "code",
   "execution_count": null,
   "metadata": {},
   "outputs": [],
   "source": []
  }
 ],
 "metadata": {
  "language_info": {
   "name": "python",
   "codemirror_mode": {
    "name": "ipython",
    "version": 3
   },
   "version": "3.7.4-final"
  },
  "orig_nbformat": 2,
  "file_extension": ".py",
  "mimetype": "text/x-python",
  "name": "python",
  "npconvert_exporter": "python",
  "pygments_lexer": "ipython3",
  "version": 3,
  "kernelspec": {
   "name": "python37464bit000112c82aae46049a43b9e45b233c07",
   "display_name": "Python 3.7.4 64-bit"
  }
 },
 "nbformat": 4,
 "nbformat_minor": 2
}