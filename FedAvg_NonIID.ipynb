{
 "cells": [
  {
   "cell_type": "code",
   "execution_count": 1,
   "metadata": {},
   "outputs": [],
   "source": [
    "import mxnet as mx\n",
    "from mxnet import gluon\n",
    "from mxnet.gluon import nn\n",
    "from mxnet import autograd as ag\n",
    "from mxnet import ndarray as nd\n",
    "from Algorithm.CNN import CNN_Model\n",
    "from Algorithm.MLP import MLP\n",
    "from Tools import utils\n",
    "import numpy as np"
   ]
  },
  {
   "cell_type": "code",
   "execution_count": 2,
   "metadata": {},
   "outputs": [],
   "source": [
    "ctx = utils.try_all_gpus()\n",
    "mlp = MLP()\n",
    "lenet = CNN_Model('LeNet')\n",
    "\n",
    "\n",
    "def get_data(data_idx, batch_size):\n",
    "    data = \"E:\\\\PythonProjects\\\\Mxnet_FederatedLearning\\\\Fed_Client\\\\FedAvg_data_random\\\\train_data\" + str(data_idx) + \".npy\"\n",
    "    label = \"E:\\\\PythonProjects\\\\Mxnet_FederatedLearning\\\\Fed_Client\\\\FedAvg_data_random\\\\train_label\" + str(data_idx) + \".npy\"\n",
    "    data = np.load(data)\n",
    "    label = np.load(label)\n",
    "    train_data = mx.io.NDArrayIter(data,label,batch_size=batch_size,shuffle=True)\n",
    "    return train_data\n",
    "\n",
    "def validate(net):\n",
    "    mnist = mx.test_utils.get_mnist()\n",
    "    val_data = mx.io.NDArrayIter(mnist['test_data'],mnist['test_label'],batch_size=100)\n",
    "    metric = mx.metric.Accuracy()\n",
    "    val_data.reset()\n",
    "    for batch in val_data:\n",
    "        data = gluon.utils.split_and_load(batch.data[0], ctx_list=ctx, batch_axis=0)\n",
    "        label = gluon.utils.split_and_load(batch.label[0], ctx_list=ctx, batch_axis=0)\n",
    "        outputs = []\n",
    "        for x in data:\n",
    "            outputs.append(net(x))\n",
    "        metric.update(label, outputs)\n",
    "    name,acc =metric.get()\n",
    "    return acc"
   ]
  },
  {
   "cell_type": "code",
   "execution_count": 3,
   "metadata": {},
   "outputs": [],
   "source": [
    "def train_till_acc(net, stop_acc, learning_rate, batch_size, epoch):\n",
    "    round = 0\n",
    "    for client in range(1000):\n",
    "        client = client%100\n",
    "        train_data = get_data(client, batch_size)\n",
    "        softmax_cross_entropy_loss = gluon.loss.SoftmaxCrossEntropyLoss()\n",
    "        trainer = trainer = gluon.Trainer(net.collect_params(), 'sgd', {'learning_rate': learning_rate})\n",
    "        metric = mx.metric.Accuracy()\n",
    "        stop_flag = False\n",
    "        print(\"Round %d starting\"%(round))\n",
    "        for i in range(epoch):\n",
    "            train_data.reset()\n",
    "            for batch in train_data:\n",
    "                data = gluon.utils.split_and_load(batch.data[0], ctx_list=ctx, batch_axis=0)\n",
    "                label = gluon.utils.split_and_load(batch.label[0], ctx_list=ctx, batch_axis=0)\n",
    "                outputs = []\n",
    "                with ag.record():\n",
    "                    for x, y in zip(data, label):\n",
    "                        z = net(x)\n",
    "                        loss = softmax_cross_entropy_loss(z, y)\n",
    "                        loss.backward()\n",
    "                        outputs.append(z)\n",
    "                metric.update(label, outputs)\n",
    "                trainer.step(batch.data[0].shape[0])\n",
    "            name, acc = metric.get()\n",
    "            metric.reset()\n",
    "            print('training acc at epoch %d: %s=%f'%(i, name, acc))\n",
    "        acc = validate(net)\n",
    "        print(\"accuracy in test set %f\"%(acc))\n",
    "        if acc >= stop_acc:\n",
    "            break\n",
    "        round += 1\n",
    "    print(\"round: \",round)"
   ]
  },
  {
   "cell_type": "code",
   "execution_count": 4,
   "metadata": {
    "tags": [
     "outputPrepend",
     "outputPrepend",
     "outputPrepend",
     "outputPrepend",
     "outputPrepend",
     "outputPrepend",
     "outputPrepend",
     "outputPrepend"
    ]
   },
   "outputs": [
    {
     "output_type": "stream",
     "name": "stdout",
     "text": "800\nRound 7 starting\ntraining acc at epoch 0: accuracy=0.830000\ntraining acc at epoch 1: accuracy=0.843333\ntraining acc at epoch 2: accuracy=0.846667\ntraining acc at epoch 3: accuracy=0.856667\ntraining acc at epoch 4: accuracy=0.871667\naccuracy in test set 0.845100\nRound 8 starting\ntraining acc at epoch 0: accuracy=0.850000\ntraining acc at epoch 1: accuracy=0.855000\ntraining acc at epoch 2: accuracy=0.865000\ntraining acc at epoch 3: accuracy=0.855000\ntraining acc at epoch 4: accuracy=0.866667\naccuracy in test set 0.858800\nRound 9 starting\ntraining acc at epoch 0: accuracy=0.878333\ntraining acc at epoch 1: accuracy=0.886667\ntraining acc at epoch 2: accuracy=0.890000\ntraining acc at epoch 3: accuracy=0.893333\ntraining acc at epoch 4: accuracy=0.895000\naccuracy in test set 0.854000\nRound 10 starting\ntraining acc at epoch 0: accuracy=0.895000\ntraining acc at epoch 1: accuracy=0.911667\ntraining acc at epoch 2: accuracy=0.913333\ntraining acc at epoch 3: accuracy=0.920000\ntraining acc at epoch 4: accuracy=0.925000\naccuracy in test set 0.869500\nRound 11 starting\ntraining acc at epoch 0: accuracy=0.868333\ntraining acc at epoch 1: accuracy=0.868333\ntraining acc at epoch 2: accuracy=0.875000\ntraining acc at epoch 3: accuracy=0.890000\ntraining acc at epoch 4: accuracy=0.891667\naccuracy in test set 0.869600\nRound 12 starting\ntraining acc at epoch 0: accuracy=0.861667\ntraining acc at epoch 1: accuracy=0.865000\ntraining acc at epoch 2: accuracy=0.865000\ntraining acc at epoch 3: accuracy=0.876667\ntraining acc at epoch 4: accuracy=0.883333\naccuracy in test set 0.876700\nRound 13 starting\ntraining acc at epoch 0: accuracy=0.871667\ntraining acc at epoch 1: accuracy=0.881667\ntraining acc at epoch 2: accuracy=0.876667\ntraining acc at epoch 3: accuracy=0.885000\ntraining acc at epoch 4: accuracy=0.885000\naccuracy in test set 0.881000\nRound 14 starting\ntraining acc at epoch 0: accuracy=0.855000\ntraining acc at epoch 1: accuracy=0.861667\ntraining acc at epoch 2: accuracy=0.866667\ntraining acc at epoch 3: accuracy=0.868333\ntraining acc at epoch 4: accuracy=0.875000\naccuracy in test set 0.879200\nRound 15 starting\ntraining acc at epoch 0: accuracy=0.890000\ntraining acc at epoch 1: accuracy=0.888333\ntraining acc at epoch 2: accuracy=0.896667\ntraining acc at epoch 3: accuracy=0.901667\ntraining acc at epoch 4: accuracy=0.901667\naccuracy in test set 0.883900\nRound 16 starting\ntraining acc at epoch 0: accuracy=0.898333\ntraining acc at epoch 1: accuracy=0.901667\ntraining acc at epoch 2: accuracy=0.901667\ntraining acc at epoch 3: accuracy=0.908333\ntraining acc at epoch 4: accuracy=0.915000\naccuracy in test set 0.877400\nRound 17 starting\ntraining acc at epoch 0: accuracy=0.893333\ntraining acc at epoch 1: accuracy=0.901667\ntraining acc at epoch 2: accuracy=0.908333\ntraining acc at epoch 3: accuracy=0.908333\ntraining acc at epoch 4: accuracy=0.913333\naccuracy in test set 0.885100\nRound 18 starting\ntraining acc at epoch 0: accuracy=0.911667\ntraining acc at epoch 1: accuracy=0.928333\ntraining acc at epoch 2: accuracy=0.928333\ntraining acc at epoch 3: accuracy=0.930000\ntraining acc at epoch 4: accuracy=0.933333\naccuracy in test set 0.884100\nRound 19 starting\ntraining acc at epoch 0: accuracy=0.873333\ntraining acc at epoch 1: accuracy=0.890000\ntraining acc at epoch 2: accuracy=0.895000\ntraining acc at epoch 3: accuracy=0.900000\ntraining acc at epoch 4: accuracy=0.901667\naccuracy in test set 0.880000\nRound 20 starting\ntraining acc at epoch 0: accuracy=0.863333\ntraining acc at epoch 1: accuracy=0.880000\ntraining acc at epoch 2: accuracy=0.890000\ntraining acc at epoch 3: accuracy=0.896667\ntraining acc at epoch 4: accuracy=0.895000\naccuracy in test set 0.887600\nRound 21 starting\ntraining acc at epoch 0: accuracy=0.865000\ntraining acc at epoch 1: accuracy=0.863333\ntraining acc at epoch 2: accuracy=0.868333\ntraining acc at epoch 3: accuracy=0.871667\ntraining acc at epoch 4: accuracy=0.878333\naccuracy in test set 0.892400\nRound 22 starting\ntraining acc at epoch 0: accuracy=0.913333\ntraining acc at epoch 1: accuracy=0.913333\ntraining acc at epoch 2: accuracy=0.915000\ntraining acc at epoch 3: accuracy=0.921667\ntraining acc at epoch 4: accuracy=0.918333\naccuracy in test set 0.895800\nRound 23 starting\ntraining acc at epoch 0: accuracy=0.860000\ntraining acc at epoch 1: accuracy=0.863333\ntraining acc at epoch 2: accuracy=0.871667\ntraining acc at epoch 3: accuracy=0.871667\ntraining acc at epoch 4: accuracy=0.881667\naccuracy in test set 0.897200\nRound 24 starting\ntraining acc at epoch 0: accuracy=0.865000\ntraining acc at epoch 1: accuracy=0.883333\ntraining acc at epoch 2: accuracy=0.880000\ntraining acc at epoch 3: accuracy=0.891667\ntraining acc at epoch 4: accuracy=0.895000\naccuracy in test set 0.894200\nRound 25 starting\ntraining acc at epoch 0: accuracy=0.901667\ntraining acc at epoch 1: accuracy=0.903333\ntraining acc at epoch 2: accuracy=0.916667\ntraining acc at epoch 3: accuracy=0.916667\ntraining acc at epoch 4: accuracy=0.923333\naccuracy in test set 0.896400\nRound 26 starting\ntraining acc at epoch 0: accuracy=0.865000\ntraining acc at epoch 1: accuracy=0.881667\ntraining acc at epoch 2: accuracy=0.896667\ntraining acc at epoch 3: accuracy=0.901667\ntraining acc at epoch 4: accuracy=0.903333\naccuracy in test set 0.902800\nRound 27 starting\ntraining acc at epoch 0: accuracy=0.896667\ntraining acc at epoch 1: accuracy=0.906667\ntraining acc at epoch 2: accuracy=0.906667\ntraining acc at epoch 3: accuracy=0.916667\ntraining acc at epoch 4: accuracy=0.915000\naccuracy in test set 0.904400\nRound 28 starting\ntraining acc at epoch 0: accuracy=0.891667\ntraining acc at epoch 1: accuracy=0.898333\ntraining acc at epoch 2: accuracy=0.901667\ntraining acc at epoch 3: accuracy=0.903333\ntraining acc at epoch 4: accuracy=0.903333\naccuracy in test set 0.904400\nRound 29 starting\ntraining acc at epoch 0: accuracy=0.865000\ntraining acc at epoch 1: accuracy=0.880000\ntraining acc at epoch 2: accuracy=0.880000\ntraining acc at epoch 3: accuracy=0.886667\ntraining acc at epoch 4: accuracy=0.900000\naccuracy in test set 0.903900\nRound 30 starting\ntraining acc at epoch 0: accuracy=0.925000\ntraining acc at epoch 1: accuracy=0.933333\ntraining acc at epoch 2: accuracy=0.935000\ntraining acc at epoch 3: accuracy=0.941667\ntraining acc at epoch 4: accuracy=0.938333\naccuracy in test set 0.903400\nRound 31 starting\ntraining acc at epoch 0: accuracy=0.915000\ntraining acc at epoch 1: accuracy=0.916667\ntraining acc at epoch 2: accuracy=0.923333\ntraining acc at epoch 3: accuracy=0.928333\ntraining acc at epoch 4: accuracy=0.933333\naccuracy in test set 0.908300\nRound 32 starting\ntraining acc at epoch 0: accuracy=0.921667\ntraining acc at epoch 1: accuracy=0.930000\ntraining acc at epoch 2: accuracy=0.936667\ntraining acc at epoch 3: accuracy=0.943333\ntraining acc at epoch 4: accuracy=0.943333\naccuracy in test set 0.901400\nRound 33 starting\ntraining acc at epoch 0: accuracy=0.898333\ntraining acc at epoch 1: accuracy=0.913333\ntraining acc at epoch 2: accuracy=0.920000\ntraining acc at epoch 3: accuracy=0.923333\ntraining acc at epoch 4: accuracy=0.926667\naccuracy in test set 0.908100\nRound 34 starting\ntraining acc at epoch 0: accuracy=0.891667\ntraining acc at epoch 1: accuracy=0.898333\ntraining acc at epoch 2: accuracy=0.905000\ntraining acc at epoch 3: accuracy=0.901667\ntraining acc at epoch 4: accuracy=0.913333\naccuracy in test set 0.904800\nRound 35 starting\ntraining acc at epoch 0: accuracy=0.930000\ntraining acc at epoch 1: accuracy=0.925000\ntraining acc at epoch 2: accuracy=0.926667\ntraining acc at epoch 3: accuracy=0.933333\ntraining acc at epoch 4: accuracy=0.935000\naccuracy in test set 0.907100\nRound 36 starting\ntraining acc at epoch 0: accuracy=0.925000\ntraining acc at epoch 1: accuracy=0.928333\ntraining acc at epoch 2: accuracy=0.936667\ntraining acc at epoch 3: accuracy=0.931667\ntraining acc at epoch 4: accuracy=0.933333\naccuracy in test set 0.908200\nRound 37 starting\ntraining acc at epoch 0: accuracy=0.888333\ntraining acc at epoch 1: accuracy=0.893333\ntraining acc at epoch 2: accuracy=0.903333\ntraining acc at epoch 3: accuracy=0.900000\ntraining acc at epoch 4: accuracy=0.920000\naccuracy in test set 0.907100\nRound 38 starting\ntraining acc at epoch 0: accuracy=0.930000\ntraining acc at epoch 1: accuracy=0.930000\ntraining acc at epoch 2: accuracy=0.926667\ntraining acc at epoch 3: accuracy=0.930000\ntraining acc at epoch 4: accuracy=0.940000\naccuracy in test set 0.910800\nRound 39 starting\ntraining acc at epoch 0: accuracy=0.905000\ntraining acc at epoch 1: accuracy=0.903333\ntraining acc at epoch 2: accuracy=0.910000\ntraining acc at epoch 3: accuracy=0.908333\ntraining acc at epoch 4: accuracy=0.915000\naccuracy in test set 0.914000\nRound 40 starting\ntraining acc at epoch 0: accuracy=0.898333\ntraining acc at epoch 1: accuracy=0.898333\ntraining acc at epoch 2: accuracy=0.903333\ntraining acc at epoch 3: accuracy=0.910000\ntraining acc at epoch 4: accuracy=0.906667\naccuracy in test set 0.911300\nRound 41 starting\ntraining acc at epoch 0: accuracy=0.880000\ntraining acc at epoch 1: accuracy=0.891667\ntraining acc at epoch 2: accuracy=0.890000\ntraining acc at epoch 3: accuracy=0.901667\ntraining acc at epoch 4: accuracy=0.901667\naccuracy in test set 0.912100\nRound 42 starting\ntraining acc at epoch 0: accuracy=0.923333\ntraining acc at epoch 1: accuracy=0.931667\ntraining acc at epoch 2: accuracy=0.931667\ntraining acc at epoch 3: accuracy=0.931667\ntraining acc at epoch 4: accuracy=0.935000\naccuracy in test set 0.914700\nRound 43 starting\ntraining acc at epoch 0: accuracy=0.931667\ntraining acc at epoch 1: accuracy=0.935000\ntraining acc at epoch 2: accuracy=0.936667\ntraining acc at epoch 3: accuracy=0.946667\ntraining acc at epoch 4: accuracy=0.945000\naccuracy in test set 0.914200\nRound 44 starting\ntraining acc at epoch 0: accuracy=0.881667\ntraining acc at epoch 1: accuracy=0.898333\ntraining acc at epoch 2: accuracy=0.905000\ntraining acc at epoch 3: accuracy=0.905000\ntraining acc at epoch 4: accuracy=0.900000\naccuracy in test set 0.913200\nRound 45 starting\ntraining acc at epoch 0: accuracy=0.911667\ntraining acc at epoch 1: accuracy=0.918333\ntraining acc at epoch 2: accuracy=0.920000\ntraining acc at epoch 3: accuracy=0.928333\ntraining acc at epoch 4: accuracy=0.931667\naccuracy in test set 0.913400\nRound 46 starting\ntraining acc at epoch 0: accuracy=0.908333\ntraining acc at epoch 1: accuracy=0.910000\ntraining acc at epoch 2: accuracy=0.921667\ntraining acc at epoch 3: accuracy=0.920000\ntraining acc at epoch 4: accuracy=0.923333\naccuracy in test set 0.915700\nRound 47 starting\ntraining acc at epoch 0: accuracy=0.911667\ntraining acc at epoch 1: accuracy=0.921667\ntraining acc at epoch 2: accuracy=0.928333\ntraining acc at epoch 3: accuracy=0.933333\ntraining acc at epoch 4: accuracy=0.931667\naccuracy in test set 0.915400\nRound 48 starting\ntraining acc at epoch 0: accuracy=0.910000\ntraining acc at epoch 1: accuracy=0.921667\ntraining acc at epoch 2: accuracy=0.918333\ntraining acc at epoch 3: accuracy=0.923333\ntraining acc at epoch 4: accuracy=0.923333\naccuracy in test set 0.917300\nRound 49 starting\ntraining acc at epoch 0: accuracy=0.898333\ntraining acc at epoch 1: accuracy=0.915000\ntraining acc at epoch 2: accuracy=0.923333\ntraining acc at epoch 3: accuracy=0.921667\ntraining acc at epoch 4: accuracy=0.920000\naccuracy in test set 0.912700\nRound 50 starting\ntraining acc at epoch 0: accuracy=0.901667\ntraining acc at epoch 1: accuracy=0.903333\ntraining acc at epoch 2: accuracy=0.908333\ntraining acc at epoch 3: accuracy=0.913333\ntraining acc at epoch 4: accuracy=0.920000\naccuracy in test set 0.919800\nRound 51 starting\ntraining acc at epoch 0: accuracy=0.893333\ntraining acc at epoch 1: accuracy=0.896667\ntraining acc at epoch 2: accuracy=0.908333\ntraining acc at epoch 3: accuracy=0.908333\ntraining acc at epoch 4: accuracy=0.906667\naccuracy in test set 0.918500\nRound 52 starting\ntraining acc at epoch 0: accuracy=0.878333\ntraining acc at epoch 1: accuracy=0.883333\ntraining acc at epoch 2: accuracy=0.890000\ntraining acc at epoch 3: accuracy=0.888333\ntraining acc at epoch 4: accuracy=0.900000\naccuracy in test set 0.922100\nRound 53 starting\ntraining acc at epoch 0: accuracy=0.890000\ntraining acc at epoch 1: accuracy=0.900000\ntraining acc at epoch 2: accuracy=0.910000\ntraining acc at epoch 3: accuracy=0.915000\ntraining acc at epoch 4: accuracy=0.913333\naccuracy in test set 0.917200\nRound 54 starting\ntraining acc at epoch 0: accuracy=0.920000\ntraining acc at epoch 1: accuracy=0.918333\ntraining acc at epoch 2: accuracy=0.926667\ntraining acc at epoch 3: accuracy=0.928333\ntraining acc at epoch 4: accuracy=0.928333\naccuracy in test set 0.921200\nRound 55 starting\ntraining acc at epoch 0: accuracy=0.921667\ntraining acc at epoch 1: accuracy=0.921667\ntraining acc at epoch 2: accuracy=0.930000\ntraining acc at epoch 3: accuracy=0.938333\ntraining acc at epoch 4: accuracy=0.935000\naccuracy in test set 0.918500\nRound 56 starting\ntraining acc at epoch 0: accuracy=0.951667\ntraining acc at epoch 1: accuracy=0.963333\ntraining acc at epoch 2: accuracy=0.961667\ntraining acc at epoch 3: accuracy=0.965000\ntraining acc at epoch 4: accuracy=0.965000\naccuracy in test set 0.920300\nRound 57 starting\ntraining acc at epoch 0: accuracy=0.910000\ntraining acc at epoch 1: accuracy=0.920000\ntraining acc at epoch 2: accuracy=0.925000\ntraining acc at epoch 3: accuracy=0.926667\ntraining acc at epoch 4: accuracy=0.933333\naccuracy in test set 0.920100\nRound 58 starting\ntraining acc at epoch 0: accuracy=0.918333\ntraining acc at epoch 1: accuracy=0.931667\ntraining acc at epoch 2: accuracy=0.936667\ntraining acc at epoch 3: accuracy=0.935000\ntraining acc at epoch 4: accuracy=0.940000\naccuracy in test set 0.921000\nRound 59 starting\ntraining acc at epoch 0: accuracy=0.930000\ntraining acc at epoch 1: accuracy=0.936667\ntraining acc at epoch 2: accuracy=0.941667\ntraining acc at epoch 3: accuracy=0.940000\ntraining acc at epoch 4: accuracy=0.941667\naccuracy in test set 0.921700\nRound 60 starting\ntraining acc at epoch 0: accuracy=0.933333\ntraining acc at epoch 1: accuracy=0.936667\ntraining acc at epoch 2: accuracy=0.943333\ntraining acc at epoch 3: accuracy=0.946667\ntraining acc at epoch 4: accuracy=0.945000\naccuracy in test set 0.916500\nRound 61 starting\ntraining acc at epoch 0: accuracy=0.930000\ntraining acc at epoch 1: accuracy=0.938333\ntraining acc at epoch 2: accuracy=0.933333\ntraining acc at epoch 3: accuracy=0.933333\ntraining acc at epoch 4: accuracy=0.936667\naccuracy in test set 0.919600\nRound 62 starting\ntraining acc at epoch 0: accuracy=0.885000\ntraining acc at epoch 1: accuracy=0.900000\ntraining acc at epoch 2: accuracy=0.901667\ntraining acc at epoch 3: accuracy=0.910000\ntraining acc at epoch 4: accuracy=0.915000\naccuracy in test set 0.922100\nRound 63 starting\ntraining acc at epoch 0: accuracy=0.911667\ntraining acc at epoch 1: accuracy=0.923333\ntraining acc at epoch 2: accuracy=0.930000\ntraining acc at epoch 3: accuracy=0.938333\ntraining acc at epoch 4: accuracy=0.935000\naccuracy in test set 0.919100\nRound 64 starting\ntraining acc at epoch 0: accuracy=0.923333\ntraining acc at epoch 1: accuracy=0.923333\ntraining acc at epoch 2: accuracy=0.928333\ntraining acc at epoch 3: accuracy=0.931667\ntraining acc at epoch 4: accuracy=0.933333\naccuracy in test set 0.923000\nRound 65 starting\ntraining acc at epoch 0: accuracy=0.911667\ntraining acc at epoch 1: accuracy=0.921667\ntraining acc at epoch 2: accuracy=0.923333\ntraining acc at epoch 3: accuracy=0.925000\ntraining acc at epoch 4: accuracy=0.925000\naccuracy in test set 0.923000\nRound 66 starting\ntraining acc at epoch 0: accuracy=0.908333\ntraining acc at epoch 1: accuracy=0.923333\ntraining acc at epoch 2: accuracy=0.925000\ntraining acc at epoch 3: accuracy=0.933333\ntraining acc at epoch 4: accuracy=0.935000\naccuracy in test set 0.924900\nRound 67 starting\ntraining acc at epoch 0: accuracy=0.933333\ntraining acc at epoch 1: accuracy=0.938333\ntraining acc at epoch 2: accuracy=0.941667\ntraining acc at epoch 3: accuracy=0.945000\ntraining acc at epoch 4: accuracy=0.946667\naccuracy in test set 0.926300\nRound 68 starting\ntraining acc at epoch 0: accuracy=0.916667\ntraining acc at epoch 1: accuracy=0.928333\ntraining acc at epoch 2: accuracy=0.930000\ntraining acc at epoch 3: accuracy=0.931667\ntraining acc at epoch 4: accuracy=0.940000\naccuracy in test set 0.922800\nRound 69 starting\ntraining acc at epoch 0: accuracy=0.918333\ntraining acc at epoch 1: accuracy=0.921667\ntraining acc at epoch 2: accuracy=0.926667\ntraining acc at epoch 3: accuracy=0.928333\ntraining acc at epoch 4: accuracy=0.930000\naccuracy in test set 0.925600\nRound 70 starting\ntraining acc at epoch 0: accuracy=0.901667\ntraining acc at epoch 1: accuracy=0.905000\ntraining acc at epoch 2: accuracy=0.916667\ntraining acc at epoch 3: accuracy=0.923333\ntraining acc at epoch 4: accuracy=0.923333\naccuracy in test set 0.926200\nRound 71 starting\ntraining acc at epoch 0: accuracy=0.910000\ntraining acc at epoch 1: accuracy=0.916667\ntraining acc at epoch 2: accuracy=0.918333\ntraining acc at epoch 3: accuracy=0.930000\ntraining acc at epoch 4: accuracy=0.928333\naccuracy in test set 0.926000\nRound 72 starting\ntraining acc at epoch 0: accuracy=0.926667\ntraining acc at epoch 1: accuracy=0.930000\ntraining acc at epoch 2: accuracy=0.941667\ntraining acc at epoch 3: accuracy=0.945000\ntraining acc at epoch 4: accuracy=0.953333\naccuracy in test set 0.926700\nRound 73 starting\ntraining acc at epoch 0: accuracy=0.918333\ntraining acc at epoch 1: accuracy=0.921667\ntraining acc at epoch 2: accuracy=0.930000\ntraining acc at epoch 3: accuracy=0.928333\ntraining acc at epoch 4: accuracy=0.931667\naccuracy in test set 0.929400\nRound 74 starting\ntraining acc at epoch 0: accuracy=0.933333\ntraining acc at epoch 1: accuracy=0.938333\ntraining acc at epoch 2: accuracy=0.930000\ntraining acc at epoch 3: accuracy=0.940000\ntraining acc at epoch 4: accuracy=0.945000\naccuracy in test set 0.924700\nRound 75 starting\ntraining acc at epoch 0: accuracy=0.911667\ntraining acc at epoch 1: accuracy=0.920000\ntraining acc at epoch 2: accuracy=0.921667\ntraining acc at epoch 3: accuracy=0.923333\ntraining acc at epoch 4: accuracy=0.931667\naccuracy in test set 0.929000\nRound 76 starting\ntraining acc at epoch 0: accuracy=0.908333\ntraining acc at epoch 1: accuracy=0.913333\ntraining acc at epoch 2: accuracy=0.910000\ntraining acc at epoch 3: accuracy=0.913333\ntraining acc at epoch 4: accuracy=0.923333\naccuracy in test set 0.927600\nRound 77 starting\ntraining acc at epoch 0: accuracy=0.928333\ntraining acc at epoch 1: accuracy=0.923333\ntraining acc at epoch 2: accuracy=0.926667\ntraining acc at epoch 3: accuracy=0.935000\ntraining acc at epoch 4: accuracy=0.935000\naccuracy in test set 0.928100\nRound 78 starting\ntraining acc at epoch 0: accuracy=0.926667\ntraining acc at epoch 1: accuracy=0.933333\ntraining acc at epoch 2: accuracy=0.935000\ntraining acc at epoch 3: accuracy=0.940000\ntraining acc at epoch 4: accuracy=0.938333\naccuracy in test set 0.926600\nRound 79 starting\ntraining acc at epoch 0: accuracy=0.918333\ntraining acc at epoch 1: accuracy=0.925000\ntraining acc at epoch 2: accuracy=0.925000\ntraining acc at epoch 3: accuracy=0.935000\ntraining acc at epoch 4: accuracy=0.940000\naccuracy in test set 0.929100\nRound 80 starting\ntraining acc at epoch 0: accuracy=0.931667\ntraining acc at epoch 1: accuracy=0.933333\ntraining acc at epoch 2: accuracy=0.943333\ntraining acc at epoch 3: accuracy=0.943333\ntraining acc at epoch 4: accuracy=0.943333\naccuracy in test set 0.925900\nRound 81 starting\ntraining acc at epoch 0: accuracy=0.913333\ntraining acc at epoch 1: accuracy=0.915000\ntraining acc at epoch 2: accuracy=0.925000\ntraining acc at epoch 3: accuracy=0.933333\ntraining acc at epoch 4: accuracy=0.938333\naccuracy in test set 0.923500\nRound 82 starting\ntraining acc at epoch 0: accuracy=0.916667\ntraining acc at epoch 1: accuracy=0.918333\ntraining acc at epoch 2: accuracy=0.921667\ntraining acc at epoch 3: accuracy=0.930000\ntraining acc at epoch 4: accuracy=0.933333\naccuracy in test set 0.932700\nround:  82\n"
    }
   ],
   "source": [
    "mlp.load_parameters(\"mlp.params\",ctx=ctx)\n",
    "train_till_acc(mlp,0.93,0.02,100,5)"
   ]
  },
  {
   "cell_type": "code",
   "execution_count": null,
   "metadata": {},
   "outputs": [],
   "source": []
  }
 ],
 "metadata": {
  "language_info": {
   "codemirror_mode": {
    "name": "ipython",
    "version": 3
   },
   "file_extension": ".py",
   "mimetype": "text/x-python",
   "name": "python",
   "nbconvert_exporter": "python",
   "pygments_lexer": "ipython3",
   "version": "3.7.4-final"
  },
  "orig_nbformat": 2,
  "kernelspec": {
   "name": "python37464bit000112c82aae46049a43b9e45b233c07",
   "display_name": "Python 3.7.4 64-bit"
  }
 },
 "nbformat": 4,
 "nbformat_minor": 2
}