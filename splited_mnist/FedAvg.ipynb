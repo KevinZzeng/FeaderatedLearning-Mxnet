{
 "nbformat": 4,
 "nbformat_minor": 2,
 "metadata": {
  "language_info": {
   "name": "python",
   "codemirror_mode": {
    "name": "ipython",
    "version": 3
   },
   "version": "3.7.4-final"
  },
  "orig_nbformat": 2,
  "file_extension": ".py",
  "mimetype": "text/x-python",
  "name": "python",
  "npconvert_exporter": "python",
  "pygments_lexer": "ipython3",
  "version": 3,
  "kernelspec": {
   "name": "python37464bit000112c82aae46049a43b9e45b233c07",
   "display_name": "Python 3.7.4 64-bit"
  }
 },
 "cells": [
  {
   "cell_type": "markdown",
   "metadata": {},
   "source": [
    "## FedAvg实验数据处理\n",
    "将60,000张mnist图片分为600张/client，即100个client\n",
    "保证数据为IID\n",
    "\n",
    "mnist数据分布：\n",
    "[5923, 6742, 5958, 6131, 5842, 5421, 5918, 6265, 5851, 5949]"
   ]
  },
  {
   "cell_type": "code",
   "execution_count": 1,
   "metadata": {},
   "outputs": [],
   "source": [
    "import mxnet as mx\n",
    "import numpy as np"
   ]
  },
  {
   "cell_type": "code",
   "execution_count": 2,
   "metadata": {},
   "outputs": [],
   "source": [
    "client_ = {}\n",
    "for i in range(100):\n",
    "    client_[\"data\" + str(i)] = []\n",
    "    client_[\"label\" + str(i)] = []"
   ]
  },
  {
   "cell_type": "code",
   "execution_count": 3,
   "metadata": {},
   "outputs": [],
   "source": [
    "mnist_data = []\n",
    "for i in range(10):\n",
    "    mnist_data.append(np.load(\"data\"+str(i)+\".npy\"))"
   ]
  },
  {
   "cell_type": "code",
   "execution_count": 4,
   "metadata": {},
   "outputs": [],
   "source": [
    "\n",
    "for idx in range(10):   #遍历label\n",
    "    for i in range(100): #遍历client\n",
    "        data = mnist_data[idx][i:i+60-1]\n",
    "        data = data.tolist()\n",
    "        client_[\"data\"+str(i)] += data\n",
    "        client_[\"label\"+str(i)] += len(data)*[idx]"
   ]
  },
  {
   "cell_type": "code",
   "execution_count": 5,
   "metadata": {},
   "outputs": [
    {
     "output_type": "execute_result",
     "data": {
      "text/plain": "590"
     },
     "metadata": {},
     "execution_count": 5
    }
   ],
   "source": [
    "len(client_['label0'])"
   ]
  },
  {
   "cell_type": "code",
   "execution_count": 9,
   "metadata": {},
   "outputs": [],
   "source": [
    "test = np.array(client_[\"data0\"])"
   ]
  },
  {
   "cell_type": "code",
   "execution_count": 10,
   "metadata": {},
   "outputs": [
    {
     "output_type": "execute_result",
     "data": {
      "text/plain": "(590, 1, 28, 28)"
     },
     "metadata": {},
     "execution_count": 10
    }
   ],
   "source": [
    "test.shape"
   ]
  },
  {
   "cell_type": "code",
   "execution_count": 14,
   "metadata": {},
   "outputs": [],
   "source": [
    "for i in range(100):\n",
    "    data_np = np.array(client_[\"data\"+str(i)])\n",
    "    np.save(\".\\\\FedAvg_data\\\\train_data\"+str(i)+\".npy\",data_np)\n",
    "    label_np = np.array(client_[\"label\"+str(i)])\n",
    "    np.save(\".\\\\FedAvg_data\\\\train_label\"+str(i)+\".npy\",label_np)"
   ]
  },
  {
   "cell_type": "code",
   "execution_count": null,
   "metadata": {},
   "outputs": [],
   "source": []
  }
 ]
}