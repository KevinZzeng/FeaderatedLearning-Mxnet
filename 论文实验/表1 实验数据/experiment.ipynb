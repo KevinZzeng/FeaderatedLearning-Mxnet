{
 "nbformat": 4,
 "nbformat_minor": 2,
 "metadata": {
  "language_info": {
   "name": "python",
   "codemirror_mode": {
    "name": "ipython",
    "version": 3
   },
   "version": "3.7.4-final"
  },
  "orig_nbformat": 2,
  "file_extension": ".py",
  "mimetype": "text/x-python",
  "name": "python",
  "npconvert_exporter": "python",
  "pygments_lexer": "ipython3",
  "version": 3,
  "kernelspec": {
   "name": "python37464bit000112c82aae46049a43b9e45b233c07",
   "display_name": "Python 3.7.4 64-bit"
  }
 },
 "cells": [
  {
   "cell_type": "markdown",
   "metadata": {},
   "source": [
    "实验MLP和LeNet在集中数据集训练下的模型收敛情况\n",
    "​\t\n",
    "\n",
    "| mlp accuracy>=97%           | 200  | 100  | 50   | 10   | 200  | 100  | 50   | 10   |\n",
    "| --------------------------- | ---- | ---- | ---- | ---- | ---- | ---- | ---- | ---- |\n",
    "| 0.01                        | 84   | 41   | 23   | 6    |      |      |      |      |\n",
    "| 0.02                        | 43   | 21   | 11   | 3    |      |      |      |      |\n",
    "| 0.04                        | 21   | 11   | 6    | 3    |      |      |      |      |\n",
    "| **LeNet-5 accuracy>=98.8%** |      |      |      |      |      |      |      |      |\n",
    "| 0.01                        | 132  | 66   | 29   | 11   |      |      |      |      |\n",
    "| 0.02                        | 54   | 27   | 18   | 4    |      |      |      |      |\n",
    "| 0.04                        | 34   | 13   | 11   | 6    |      |      |      |      |\n",
    "\n",
    "​\t\t"
   ]
  },
  {
   "cell_type": "code",
   "execution_count": 1,
   "metadata": {},
   "outputs": [],
   "source": [
    "import mxnet as mx\n",
    "from mxnet import gluon\n",
    "from mxnet.gluon import nn\n",
    "from mxnet import autograd as ag\n",
    "from mxnet import ndarray as nd\n",
    "from Algorithm.CNN import CNN_Model\n",
    "from Algorithm.MLP import MLP\n",
    "from Tools import utils"
   ]
  },
  {
   "cell_type": "code",
   "execution_count": 2,
   "metadata": {},
   "outputs": [],
   "source": [
    "LeNet = CNN_Model('LeNet')\n",
    "mlp = MLP()\n",
    "ctx = utils.try_all_gpus()"
   ]
  },
  {
   "cell_type": "code",
   "execution_count": 3,
   "metadata": {},
   "outputs": [],
   "source": [
    "LeNet.initialize(init=mx.initializer.Xavier(),ctx=ctx)\n",
    "x = nd.random.uniform(low=0,high=255,shape=(1,1,28,28),ctx=ctx[0])\n",
    "LeNet(x)\n",
    "LeNet.save_parameters(\"LeNet.params\")\n",
    "mlp.initialize(init=mx.initializer.Xavier(),ctx=ctx)\n",
    "x = x = nd.random.uniform(low=0,high=255,shape=(1,28,28),ctx=ctx[0])\n",
    "mlp(x)\n",
    "mlp.save_parameters(\"mlp.params\")\n",
    "\n",
    "mnist = mx.test_utils.get_mnist()\n",
    "batch_size = 100\n",
    "train_data = mx.io.NDArrayIter(mnist['train_data'], mnist['train_label'], batch_size, shuffle=True)\n",
    "val_data = mx.io.NDArrayIter(mnist['test_data'], mnist['test_label'], batch_size)"
   ]
  },
  {
   "cell_type": "code",
   "execution_count": 8,
   "metadata": {},
   "outputs": [],
   "source": [
    "def validation(val_data, net):\n",
    "    metric = mx.metric.Accuracy()\n",
    "    val_data.reset()\n",
    "    for batch in val_data:\n",
    "        data = gluon.utils.split_and_load(batch.data[0], ctx_list=ctx, batch_axis=0)\n",
    "        label = gluon.utils.split_and_load(batch.label[0], ctx_list=ctx, batch_axis=0)\n",
    "        outputs = []\n",
    "        for x in data:\n",
    "            outputs.append(net(x))\n",
    "        metric.update(label, outputs)\n",
    "    name,acc =metric.get()\n",
    "    return acc\n",
    "\n",
    "def train(net, data, epoch, stop_acc):\n",
    "    trainer = gluon.Trainer(net.collect_params(), 'sgd', {'learning_rate': 0.02})\n",
    "    metric = mx.metric.Accuracy()\n",
    "    softmax_cross_entropy_loss = gluon.loss.SoftmaxCrossEntropyLoss()\n",
    "    for i in range(epoch):\n",
    "        train_data.reset()\n",
    "        for batch in train_data:\n",
    "            data = gluon.utils.split_and_load(batch.data[0], ctx_list=ctx, batch_axis=0)\n",
    "            label = gluon.utils.split_and_load(batch.label[0], ctx_list=ctx, batch_axis=0)\n",
    "            outputs = []\n",
    "            with ag.record():\n",
    "                for x, y in zip(data, label):\n",
    "                    z = net(x)\n",
    "                    loss = softmax_cross_entropy_loss(z, y)\n",
    "                    loss.backward()\n",
    "                    outputs.append(z)\n",
    "            metric.update(label, outputs)\n",
    "            trainer.step(batch.data[0].shape[0])\n",
    "        name, acc = metric.get()\n",
    "        metric.reset()\n",
    "        print('training acc at epoch %d: %s=%f'%(i, name, acc))\n",
    "\n",
    "def train_till_acc(net, stop_acc, lr, batch_size):\n",
    "    train_data = mx.io.NDArrayIter(mnist['train_data'], mnist['train_label'], batch_size, shuffle=True)\n",
    "    val_data = mx.io.NDArrayIter(mnist['test_data'], mnist['test_label'], batch_size)\n",
    "    trainer = gluon.Trainer(net.collect_params(), 'sgd', {'learning_rate': lr})\n",
    "    softmax_cross_entropy_loss = gluon.loss.SoftmaxCrossEntropyLoss()\n",
    "    i=0\n",
    "    while(True):\n",
    "        train_data.reset()\n",
    "        for batch in train_data:\n",
    "            data = gluon.utils.split_and_load(batch.data[0], ctx_list=ctx, batch_axis=0)\n",
    "            label = gluon.utils.split_and_load(batch.label[0], ctx_list=ctx, batch_axis=0)\n",
    "            outputs = []\n",
    "            with ag.record():\n",
    "                for x, y in zip(data, label):\n",
    "                    z = net(x)\n",
    "                    loss = softmax_cross_entropy_loss(z, y)\n",
    "                    loss.backward()\n",
    "                    outputs.append(z)\n",
    "            trainer.step(batch.data[0].shape[0])\n",
    "        acc = validation(val_data,net)\n",
    "        i += 1\n",
    "        if acc >= stop_acc:\n",
    "            print('training acc at epoch %d: acc=%f'%(i, acc))\n",
    "            break\n",
    "        else:\n",
    "            print('training acc at epoch %d: acc=%f'%(i, acc))"
   ]
  },
  {
   "cell_type": "code",
   "execution_count": 6,
   "metadata": {},
   "outputs": [
    {
     "output_type": "stream",
     "name": "stdout",
     "text": "training acc at epoch 1: acc=0.815300\ntraining acc at epoch 2: acc=0.871100\ntraining acc at epoch 3: acc=0.888200\ntraining acc at epoch 4: acc=0.898400\ntraining acc at epoch 5: acc=0.904300\ntraining acc at epoch 6: acc=0.909000\ntraining acc at epoch 7: acc=0.913100\ntraining acc at epoch 8: acc=0.913700\ntraining acc at epoch 9: acc=0.918500\ntraining acc at epoch 10: acc=0.921000\ntraining acc at epoch 11: acc=0.925000\ntraining acc at epoch 12: acc=0.925700\ntraining acc at epoch 13: acc=0.926500\ntraining acc at epoch 14: acc=0.929500\ntraining acc at epoch 15: acc=0.931700\ntraining acc at epoch 16: acc=0.934700\ntraining acc at epoch 17: acc=0.935300\ntraining acc at epoch 18: acc=0.937500\ntraining acc at epoch 19: acc=0.938700\ntraining acc at epoch 20: acc=0.939900\ntraining acc at epoch 21: acc=0.940700\ntraining acc at epoch 22: acc=0.942200\ntraining acc at epoch 23: acc=0.943000\ntraining acc at epoch 24: acc=0.944100\ntraining acc at epoch 25: acc=0.944200\ntraining acc at epoch 26: acc=0.945100\ntraining acc at epoch 27: acc=0.947400\ntraining acc at epoch 28: acc=0.946700\ntraining acc at epoch 29: acc=0.949100\ntraining acc at epoch 30: acc=0.949300\ntraining acc at epoch 31: acc=0.950100\ntraining acc at epoch 32: acc=0.951600\ntraining acc at epoch 33: acc=0.951200\ntraining acc at epoch 34: acc=0.952200\ntraining acc at epoch 35: acc=0.952600\ntraining acc at epoch 36: acc=0.953600\ntraining acc at epoch 37: acc=0.954300\ntraining acc at epoch 38: acc=0.954200\ntraining acc at epoch 39: acc=0.955800\ntraining acc at epoch 40: acc=0.955700\ntraining acc at epoch 41: acc=0.956400\ntraining acc at epoch 42: acc=0.957100\ntraining acc at epoch 43: acc=0.957700\ntraining acc at epoch 44: acc=0.958000\ntraining acc at epoch 45: acc=0.958400\ntraining acc at epoch 46: acc=0.959700\ntraining acc at epoch 47: acc=0.959500\ntraining acc at epoch 48: acc=0.959500\ntraining acc at epoch 49: acc=0.960200\ntraining acc at epoch 50: acc=0.960300\ntraining acc at epoch 51: acc=0.960900\ntraining acc at epoch 52: acc=0.961700\ntraining acc at epoch 53: acc=0.961700\ntraining acc at epoch 54: acc=0.961800\ntraining acc at epoch 55: acc=0.961600\ntraining acc at epoch 56: acc=0.962200\ntraining acc at epoch 57: acc=0.963100\ntraining acc at epoch 58: acc=0.963200\ntraining acc at epoch 59: acc=0.964800\ntraining acc at epoch 60: acc=0.963600\ntraining acc at epoch 61: acc=0.963600\ntraining acc at epoch 62: acc=0.963900\ntraining acc at epoch 63: acc=0.964200\ntraining acc at epoch 64: acc=0.964500\ntraining acc at epoch 65: acc=0.964800\ntraining acc at epoch 66: acc=0.965500\ntraining acc at epoch 67: acc=0.966400\ntraining acc at epoch 68: acc=0.966100\ntraining acc at epoch 69: acc=0.965900\ntraining acc at epoch 70: acc=0.966900\ntraining acc at epoch 71: acc=0.966100\ntraining acc at epoch 72: acc=0.967400\ntraining acc at epoch 73: acc=0.967800\ntraining acc at epoch 74: acc=0.967700\ntraining acc at epoch 75: acc=0.967600\ntraining acc at epoch 76: acc=0.968900\ntraining acc at epoch 77: acc=0.968500\ntraining acc at epoch 78: acc=0.968600\ntraining acc at epoch 79: acc=0.968500\ntraining acc at epoch 80: acc=0.969100\ntraining acc at epoch 81: acc=0.969500\ntraining acc at epoch 82: acc=0.969300\ntraining acc at epoch 83: acc=0.969800\ntraining acc at epoch 83: acc=0.970200\n"
    }
   ],
   "source": [
    "mlp = MLP()\n",
    "mlp.load_parameters(\"mlp.params\",ctx=ctx)\n",
    "train_till_acc(mlp, 0.97, 0.01, 200)"
   ]
  },
  {
   "cell_type": "code",
   "execution_count": 7,
   "metadata": {},
   "outputs": [
    {
     "output_type": "stream",
     "name": "stdout",
     "text": "training acc at epoch 1: acc=0.870300\ntraining acc at epoch 2: acc=0.898500\ntraining acc at epoch 3: acc=0.910400\ntraining acc at epoch 4: acc=0.916100\ntraining acc at epoch 5: acc=0.920400\ntraining acc at epoch 6: acc=0.923200\ntraining acc at epoch 7: acc=0.928800\ntraining acc at epoch 8: acc=0.934200\ntraining acc at epoch 9: acc=0.937000\ntraining acc at epoch 10: acc=0.939400\ntraining acc at epoch 11: acc=0.942200\ntraining acc at epoch 12: acc=0.943500\ntraining acc at epoch 13: acc=0.946400\ntraining acc at epoch 14: acc=0.946900\ntraining acc at epoch 15: acc=0.949600\ntraining acc at epoch 16: acc=0.950400\ntraining acc at epoch 17: acc=0.951600\ntraining acc at epoch 18: acc=0.953100\ntraining acc at epoch 19: acc=0.954500\ntraining acc at epoch 20: acc=0.955600\ntraining acc at epoch 21: acc=0.957900\ntraining acc at epoch 22: acc=0.958400\ntraining acc at epoch 23: acc=0.959900\ntraining acc at epoch 24: acc=0.959400\ntraining acc at epoch 25: acc=0.960200\ntraining acc at epoch 26: acc=0.961600\ntraining acc at epoch 27: acc=0.963000\ntraining acc at epoch 28: acc=0.962500\ntraining acc at epoch 29: acc=0.964100\ntraining acc at epoch 30: acc=0.963500\ntraining acc at epoch 31: acc=0.964100\ntraining acc at epoch 32: acc=0.965400\ntraining acc at epoch 33: acc=0.965700\ntraining acc at epoch 34: acc=0.966600\ntraining acc at epoch 35: acc=0.967100\ntraining acc at epoch 36: acc=0.967800\ntraining acc at epoch 37: acc=0.967900\ntraining acc at epoch 38: acc=0.968300\ntraining acc at epoch 39: acc=0.968800\ntraining acc at epoch 40: acc=0.969100\ntraining acc at epoch 40: acc=0.970100\n"
    }
   ],
   "source": [
    "mlp = MLP()\n",
    "mlp.load_parameters(\"mlp.params\",ctx=ctx)\n",
    "train_till_acc(mlp, 0.97, 0.01, 100)"
   ]
  },
  {
   "cell_type": "code",
   "execution_count": 9,
   "metadata": {},
   "outputs": [
    {
     "output_type": "stream",
     "name": "stdout",
     "text": "training acc at epoch 1: acc=0.896100\ntraining acc at epoch 2: acc=0.910700\ntraining acc at epoch 3: acc=0.925400\ntraining acc at epoch 4: acc=0.932700\ntraining acc at epoch 5: acc=0.939300\ntraining acc at epoch 6: acc=0.944600\ntraining acc at epoch 7: acc=0.946000\ntraining acc at epoch 8: acc=0.949400\ntraining acc at epoch 9: acc=0.952400\ntraining acc at epoch 10: acc=0.955000\ntraining acc at epoch 11: acc=0.957700\ntraining acc at epoch 12: acc=0.960000\ntraining acc at epoch 13: acc=0.961700\ntraining acc at epoch 14: acc=0.963000\ntraining acc at epoch 15: acc=0.963800\ntraining acc at epoch 16: acc=0.965400\ntraining acc at epoch 17: acc=0.966800\ntraining acc at epoch 18: acc=0.967900\ntraining acc at epoch 19: acc=0.968100\ntraining acc at epoch 20: acc=0.968600\ntraining acc at epoch 21: acc=0.969700\ntraining acc at epoch 22: acc=0.969700\ntraining acc at epoch 23: acc=0.971000\n"
    }
   ],
   "source": [
    "mlp = MLP()\n",
    "mlp.load_parameters(\"mlp.params\",ctx=ctx)\n",
    "train_till_acc(mlp, 0.97, 0.01, 50)"
   ]
  },
  {
   "cell_type": "code",
   "execution_count": 10,
   "metadata": {},
   "outputs": [
    {
     "output_type": "stream",
     "name": "stdout",
     "text": "training acc at epoch 1: acc=0.937900\ntraining acc at epoch 2: acc=0.953300\ntraining acc at epoch 3: acc=0.954900\ntraining acc at epoch 4: acc=0.964600\ntraining acc at epoch 5: acc=0.968100\ntraining acc at epoch 6: acc=0.972900\n"
    }
   ],
   "source": [
    "mlp = MLP()\n",
    "mlp.load_parameters(\"mlp.params\",ctx=ctx)\n",
    "train_till_acc(mlp, 0.97, 0.01, 10)"
   ]
  },
  {
   "cell_type": "code",
   "execution_count": 11,
   "metadata": {},
   "outputs": [
    {
     "output_type": "stream",
     "name": "stdout",
     "text": "training acc at epoch 1: acc=0.871200\ntraining acc at epoch 2: acc=0.898900\ntraining acc at epoch 3: acc=0.909000\ntraining acc at epoch 4: acc=0.915100\ntraining acc at epoch 5: acc=0.920000\ntraining acc at epoch 6: acc=0.925700\ntraining acc at epoch 7: acc=0.930500\ntraining acc at epoch 8: acc=0.934200\ntraining acc at epoch 9: acc=0.935600\ntraining acc at epoch 10: acc=0.939600\ntraining acc at epoch 11: acc=0.939600\ntraining acc at epoch 12: acc=0.943600\ntraining acc at epoch 13: acc=0.945600\ntraining acc at epoch 14: acc=0.947600\ntraining acc at epoch 15: acc=0.946900\ntraining acc at epoch 16: acc=0.949300\ntraining acc at epoch 17: acc=0.952500\ntraining acc at epoch 18: acc=0.953400\ntraining acc at epoch 19: acc=0.954600\ntraining acc at epoch 20: acc=0.955700\ntraining acc at epoch 21: acc=0.956200\ntraining acc at epoch 22: acc=0.958200\ntraining acc at epoch 23: acc=0.958000\ntraining acc at epoch 24: acc=0.959700\ntraining acc at epoch 25: acc=0.960900\ntraining acc at epoch 26: acc=0.961600\ntraining acc at epoch 27: acc=0.962300\ntraining acc at epoch 28: acc=0.962600\ntraining acc at epoch 29: acc=0.962300\ntraining acc at epoch 30: acc=0.964500\ntraining acc at epoch 31: acc=0.964900\ntraining acc at epoch 32: acc=0.965100\ntraining acc at epoch 33: acc=0.965700\ntraining acc at epoch 34: acc=0.967500\ntraining acc at epoch 35: acc=0.966500\ntraining acc at epoch 36: acc=0.967700\ntraining acc at epoch 37: acc=0.967100\ntraining acc at epoch 38: acc=0.968600\ntraining acc at epoch 39: acc=0.969000\ntraining acc at epoch 40: acc=0.969100\ntraining acc at epoch 41: acc=0.968800\ntraining acc at epoch 42: acc=0.969400\ntraining acc at epoch 43: acc=0.970000\n"
    }
   ],
   "source": [
    "mlp = MLP()\n",
    "mlp.load_parameters(\"mlp.params\",ctx=ctx)\n",
    "train_till_acc(mlp, 0.97, 0.02, 200)"
   ]
  },
  {
   "cell_type": "code",
   "execution_count": 12,
   "metadata": {},
   "outputs": [
    {
     "output_type": "stream",
     "name": "stdout",
     "text": "training acc at epoch 1: acc=0.893800\ntraining acc at epoch 2: acc=0.914600\ntraining acc at epoch 3: acc=0.924600\ntraining acc at epoch 4: acc=0.931200\ntraining acc at epoch 5: acc=0.940800\ntraining acc at epoch 6: acc=0.944300\ntraining acc at epoch 7: acc=0.946800\ntraining acc at epoch 8: acc=0.950800\ntraining acc at epoch 9: acc=0.952800\ntraining acc at epoch 10: acc=0.955600\ntraining acc at epoch 11: acc=0.957500\ntraining acc at epoch 12: acc=0.960200\ntraining acc at epoch 13: acc=0.961600\ntraining acc at epoch 14: acc=0.963100\ntraining acc at epoch 15: acc=0.964300\ntraining acc at epoch 16: acc=0.964500\ntraining acc at epoch 17: acc=0.967300\ntraining acc at epoch 18: acc=0.967300\ntraining acc at epoch 19: acc=0.968400\ntraining acc at epoch 20: acc=0.968800\ntraining acc at epoch 21: acc=0.970000\n"
    }
   ],
   "source": [
    "mlp = MLP()\n",
    "mlp.load_parameters(\"mlp.params\",ctx=ctx)\n",
    "train_till_acc(mlp, 0.97, 0.02, 100)"
   ]
  },
  {
   "cell_type": "code",
   "execution_count": 13,
   "metadata": {},
   "outputs": [
    {
     "output_type": "stream",
     "name": "stdout",
     "text": "training acc at epoch 1: acc=0.911000\ntraining acc at epoch 2: acc=0.931300\ntraining acc at epoch 3: acc=0.942800\ntraining acc at epoch 4: acc=0.949300\ntraining acc at epoch 5: acc=0.955400\ntraining acc at epoch 6: acc=0.959600\ntraining acc at epoch 7: acc=0.962400\ntraining acc at epoch 8: acc=0.965600\ntraining acc at epoch 9: acc=0.967500\ntraining acc at epoch 10: acc=0.969900\ntraining acc at epoch 11: acc=0.970300\n"
    }
   ],
   "source": [
    "mlp = MLP()\n",
    "mlp.load_parameters(\"mlp.params\",ctx=ctx)\n",
    "train_till_acc(mlp, 0.97, 0.02, 50)"
   ]
  },
  {
   "cell_type": "code",
   "execution_count": 14,
   "metadata": {},
   "outputs": [
    {
     "output_type": "stream",
     "name": "stdout",
     "text": "training acc at epoch 1: acc=0.951500\ntraining acc at epoch 2: acc=0.964400\ntraining acc at epoch 3: acc=0.972500\n"
    }
   ],
   "source": [
    "mlp = MLP()\n",
    "mlp.load_parameters(\"mlp.params\",ctx=ctx)\n",
    "train_till_acc(mlp, 0.97, 0.02, 10)"
   ]
  },
  {
   "cell_type": "code",
   "execution_count": 15,
   "metadata": {},
   "outputs": [
    {
     "output_type": "stream",
     "name": "stdout",
     "text": "training acc at epoch 1: acc=0.894500\ntraining acc at epoch 2: acc=0.913800\ntraining acc at epoch 3: acc=0.925000\ntraining acc at epoch 4: acc=0.931600\ntraining acc at epoch 5: acc=0.939900\ntraining acc at epoch 6: acc=0.943200\ntraining acc at epoch 7: acc=0.947500\ntraining acc at epoch 8: acc=0.949700\ntraining acc at epoch 9: acc=0.953500\ntraining acc at epoch 10: acc=0.956500\ntraining acc at epoch 11: acc=0.958600\ntraining acc at epoch 12: acc=0.959200\ntraining acc at epoch 13: acc=0.960600\ntraining acc at epoch 14: acc=0.962800\ntraining acc at epoch 15: acc=0.962400\ntraining acc at epoch 16: acc=0.965800\ntraining acc at epoch 17: acc=0.967000\ntraining acc at epoch 18: acc=0.967700\ntraining acc at epoch 19: acc=0.968400\ntraining acc at epoch 20: acc=0.969500\ntraining acc at epoch 21: acc=0.970700\n"
    }
   ],
   "source": [
    "mlp = MLP()\n",
    "mlp.load_parameters(\"mlp.params\",ctx=ctx)\n",
    "train_till_acc(mlp, 0.97, 0.04, 200)"
   ]
  },
  {
   "cell_type": "code",
   "execution_count": 16,
   "metadata": {},
   "outputs": [
    {
     "output_type": "stream",
     "name": "stdout",
     "text": "training acc at epoch 1: acc=0.914400\ntraining acc at epoch 2: acc=0.931300\ntraining acc at epoch 3: acc=0.944000\ntraining acc at epoch 4: acc=0.951500\ntraining acc at epoch 5: acc=0.953500\ntraining acc at epoch 6: acc=0.958900\ntraining acc at epoch 7: acc=0.962000\ntraining acc at epoch 8: acc=0.962500\ntraining acc at epoch 9: acc=0.967200\ntraining acc at epoch 10: acc=0.969200\ntraining acc at epoch 11: acc=0.970800\n"
    }
   ],
   "source": [
    "mlp = MLP()\n",
    "mlp.load_parameters(\"mlp.params\",ctx=ctx)\n",
    "train_till_acc(mlp, 0.97, 0.04, 100)"
   ]
  },
  {
   "cell_type": "code",
   "execution_count": 17,
   "metadata": {},
   "outputs": [
    {
     "output_type": "stream",
     "name": "stdout",
     "text": "training acc at epoch 1: acc=0.930200\ntraining acc at epoch 2: acc=0.940200\ntraining acc at epoch 3: acc=0.954900\ntraining acc at epoch 4: acc=0.964700\ntraining acc at epoch 5: acc=0.966000\ntraining acc at epoch 6: acc=0.971400\n"
    }
   ],
   "source": [
    "mlp = MLP()\n",
    "mlp.load_parameters(\"mlp.params\",ctx=ctx)\n",
    "train_till_acc(mlp, 0.97, 0.04, 50)"
   ]
  },
  {
   "cell_type": "code",
   "execution_count": 18,
   "metadata": {},
   "outputs": [
    {
     "output_type": "stream",
     "name": "stdout",
     "text": "training acc at epoch 1: acc=0.961300\ntraining acc at epoch 2: acc=0.969700\ntraining acc at epoch 3: acc=0.974300\n"
    }
   ],
   "source": [
    "mlp = MLP()\n",
    "mlp.load_parameters(\"mlp.params\",ctx=ctx)\n",
    "train_till_acc(mlp, 0.97, 0.04, 10)"
   ]
  },
  {
   "cell_type": "markdown",
   "metadata": {},
   "source": [
    "LeNet"
   ]
  },
  {
   "cell_type": "code",
   "execution_count": 22,
   "metadata": {},
   "outputs": [
    {
     "output_type": "stream",
     "name": "stdout",
     "text": "training acc at epoch 1: acc=0.837300\ntraining acc at epoch 2: acc=0.918400\ntraining acc at epoch 3: acc=0.931400\ntraining acc at epoch 4: acc=0.945000\ntraining acc at epoch 5: acc=0.949300\ntraining acc at epoch 6: acc=0.958000\ntraining acc at epoch 7: acc=0.960400\ntraining acc at epoch 8: acc=0.964000\ntraining acc at epoch 9: acc=0.967800\ntraining acc at epoch 10: acc=0.968000\ntraining acc at epoch 11: acc=0.968300\ntraining acc at epoch 12: acc=0.974000\ntraining acc at epoch 13: acc=0.971600\ntraining acc at epoch 14: acc=0.972200\ntraining acc at epoch 15: acc=0.973300\ntraining acc at epoch 16: acc=0.974200\ntraining acc at epoch 17: acc=0.975000\ntraining acc at epoch 18: acc=0.976700\ntraining acc at epoch 19: acc=0.977400\ntraining acc at epoch 20: acc=0.979000\ntraining acc at epoch 21: acc=0.980400\ntraining acc at epoch 22: acc=0.978200\ntraining acc at epoch 23: acc=0.980500\ntraining acc at epoch 24: acc=0.981700\ntraining acc at epoch 25: acc=0.980600\ntraining acc at epoch 26: acc=0.981500\ntraining acc at epoch 27: acc=0.982000\ntraining acc at epoch 28: acc=0.981700\ntraining acc at epoch 29: acc=0.979500\ntraining acc at epoch 30: acc=0.983800\ntraining acc at epoch 31: acc=0.983000\ntraining acc at epoch 32: acc=0.982200\ntraining acc at epoch 33: acc=0.981800\ntraining acc at epoch 34: acc=0.983700\ntraining acc at epoch 35: acc=0.981900\ntraining acc at epoch 36: acc=0.984300\ntraining acc at epoch 37: acc=0.982400\ntraining acc at epoch 38: acc=0.982000\ntraining acc at epoch 39: acc=0.983800\ntraining acc at epoch 40: acc=0.984400\ntraining acc at epoch 41: acc=0.984100\ntraining acc at epoch 42: acc=0.984600\ntraining acc at epoch 43: acc=0.984300\ntraining acc at epoch 44: acc=0.983800\ntraining acc at epoch 45: acc=0.984500\ntraining acc at epoch 46: acc=0.983600\ntraining acc at epoch 47: acc=0.984900\ntraining acc at epoch 48: acc=0.985000\ntraining acc at epoch 49: acc=0.986000\ntraining acc at epoch 50: acc=0.984700\ntraining acc at epoch 51: acc=0.985600\ntraining acc at epoch 52: acc=0.984100\ntraining acc at epoch 53: acc=0.985300\ntraining acc at epoch 54: acc=0.986000\ntraining acc at epoch 55: acc=0.985600\ntraining acc at epoch 56: acc=0.985000\ntraining acc at epoch 57: acc=0.985100\ntraining acc at epoch 58: acc=0.986000\ntraining acc at epoch 59: acc=0.985500\ntraining acc at epoch 60: acc=0.986300\ntraining acc at epoch 61: acc=0.986600\ntraining acc at epoch 62: acc=0.986000\ntraining acc at epoch 63: acc=0.985400\ntraining acc at epoch 64: acc=0.985600\ntraining acc at epoch 65: acc=0.986800\ntraining acc at epoch 66: acc=0.985300\ntraining acc at epoch 67: acc=0.985000\ntraining acc at epoch 68: acc=0.985700\ntraining acc at epoch 69: acc=0.986900\ntraining acc at epoch 70: acc=0.985500\ntraining acc at epoch 71: acc=0.986000\ntraining acc at epoch 72: acc=0.986000\ntraining acc at epoch 73: acc=0.986200\ntraining acc at epoch 74: acc=0.986400\ntraining acc at epoch 75: acc=0.985600\ntraining acc at epoch 76: acc=0.986700\ntraining acc at epoch 77: acc=0.986000\ntraining acc at epoch 78: acc=0.985700\ntraining acc at epoch 79: acc=0.985400\ntraining acc at epoch 80: acc=0.986400\ntraining acc at epoch 81: acc=0.986500\ntraining acc at epoch 82: acc=0.986400\ntraining acc at epoch 83: acc=0.984600\ntraining acc at epoch 84: acc=0.985600\ntraining acc at epoch 85: acc=0.986900\ntraining acc at epoch 86: acc=0.987000\ntraining acc at epoch 87: acc=0.986000\ntraining acc at epoch 88: acc=0.986300\ntraining acc at epoch 89: acc=0.985900\ntraining acc at epoch 90: acc=0.986800\ntraining acc at epoch 91: acc=0.987100\ntraining acc at epoch 92: acc=0.986000\ntraining acc at epoch 93: acc=0.986800\ntraining acc at epoch 94: acc=0.987600\ntraining acc at epoch 95: acc=0.987500\ntraining acc at epoch 96: acc=0.987000\ntraining acc at epoch 97: acc=0.987000\ntraining acc at epoch 98: acc=0.986900\ntraining acc at epoch 99: acc=0.987100\ntraining acc at epoch 100: acc=0.986600\ntraining acc at epoch 101: acc=0.986800\ntraining acc at epoch 102: acc=0.986800\ntraining acc at epoch 103: acc=0.987600\ntraining acc at epoch 104: acc=0.987100\ntraining acc at epoch 105: acc=0.987000\ntraining acc at epoch 106: acc=0.987100\ntraining acc at epoch 107: acc=0.986700\ntraining acc at epoch 108: acc=0.986700\ntraining acc at epoch 109: acc=0.987000\ntraining acc at epoch 110: acc=0.986900\ntraining acc at epoch 111: acc=0.986600\ntraining acc at epoch 112: acc=0.985800\ntraining acc at epoch 113: acc=0.987500\ntraining acc at epoch 114: acc=0.987300\ntraining acc at epoch 115: acc=0.987700\ntraining acc at epoch 116: acc=0.986700\ntraining acc at epoch 117: acc=0.986700\ntraining acc at epoch 118: acc=0.987400\ntraining acc at epoch 119: acc=0.986500\ntraining acc at epoch 120: acc=0.986500\ntraining acc at epoch 121: acc=0.987000\ntraining acc at epoch 122: acc=0.987600\ntraining acc at epoch 123: acc=0.986700\ntraining acc at epoch 124: acc=0.987300\ntraining acc at epoch 125: acc=0.987400\ntraining acc at epoch 126: acc=0.987200\ntraining acc at epoch 127: acc=0.987700\ntraining acc at epoch 128: acc=0.987800\ntraining acc at epoch 129: acc=0.987300\ntraining acc at epoch 130: acc=0.987900\ntraining acc at epoch 131: acc=0.987100\ntraining acc at epoch 132: acc=0.988100\n"
    }
   ],
   "source": [
    "LeNet = CNN_Model('LeNet')\n",
    "LeNet.load_parameters(\"LeNet.params\",ctx=ctx)\n",
    "train_till_acc(LeNet, 0.988, 0.01, 200)"
   ]
  },
  {
   "cell_type": "code",
   "execution_count": 23,
   "metadata": {},
   "outputs": [
    {
     "output_type": "stream",
     "name": "stdout",
     "text": "training acc at epoch 1: acc=0.908900\ntraining acc at epoch 2: acc=0.942300\ntraining acc at epoch 3: acc=0.952800\ntraining acc at epoch 4: acc=0.963200\ntraining acc at epoch 5: acc=0.965500\ntraining acc at epoch 6: acc=0.972600\ntraining acc at epoch 7: acc=0.972600\ntraining acc at epoch 8: acc=0.974200\ntraining acc at epoch 9: acc=0.973600\ntraining acc at epoch 10: acc=0.973800\ntraining acc at epoch 11: acc=0.977300\ntraining acc at epoch 12: acc=0.981300\ntraining acc at epoch 13: acc=0.979500\ntraining acc at epoch 14: acc=0.981900\ntraining acc at epoch 15: acc=0.979400\ntraining acc at epoch 16: acc=0.981700\ntraining acc at epoch 17: acc=0.983000\ntraining acc at epoch 18: acc=0.983200\ntraining acc at epoch 19: acc=0.982300\ntraining acc at epoch 20: acc=0.984300\ntraining acc at epoch 21: acc=0.982500\ntraining acc at epoch 22: acc=0.985300\ntraining acc at epoch 23: acc=0.984700\ntraining acc at epoch 24: acc=0.983600\ntraining acc at epoch 25: acc=0.983700\ntraining acc at epoch 26: acc=0.982300\ntraining acc at epoch 27: acc=0.984800\ntraining acc at epoch 28: acc=0.983900\ntraining acc at epoch 29: acc=0.985700\ntraining acc at epoch 30: acc=0.985600\ntraining acc at epoch 31: acc=0.986900\ntraining acc at epoch 32: acc=0.985500\ntraining acc at epoch 33: acc=0.985900\ntraining acc at epoch 34: acc=0.985200\ntraining acc at epoch 35: acc=0.985300\ntraining acc at epoch 36: acc=0.986200\ntraining acc at epoch 37: acc=0.986800\ntraining acc at epoch 38: acc=0.981800\ntraining acc at epoch 39: acc=0.986700\ntraining acc at epoch 40: acc=0.987200\ntraining acc at epoch 41: acc=0.987200\ntraining acc at epoch 42: acc=0.987200\ntraining acc at epoch 43: acc=0.987300\ntraining acc at epoch 44: acc=0.986700\ntraining acc at epoch 45: acc=0.983400\ntraining acc at epoch 46: acc=0.986400\ntraining acc at epoch 47: acc=0.987800\ntraining acc at epoch 48: acc=0.986200\ntraining acc at epoch 49: acc=0.987000\ntraining acc at epoch 50: acc=0.987500\ntraining acc at epoch 51: acc=0.985700\ntraining acc at epoch 52: acc=0.987200\ntraining acc at epoch 53: acc=0.986400\ntraining acc at epoch 54: acc=0.985200\ntraining acc at epoch 55: acc=0.986700\ntraining acc at epoch 56: acc=0.987400\ntraining acc at epoch 57: acc=0.987100\ntraining acc at epoch 58: acc=0.986400\ntraining acc at epoch 59: acc=0.986800\ntraining acc at epoch 60: acc=0.987200\ntraining acc at epoch 61: acc=0.985700\ntraining acc at epoch 62: acc=0.985900\ntraining acc at epoch 63: acc=0.987500\ntraining acc at epoch 64: acc=0.987300\ntraining acc at epoch 65: acc=0.987100\ntraining acc at epoch 66: acc=0.988200\n"
    }
   ],
   "source": [
    "LeNet = CNN_Model('LeNet')\n",
    "LeNet.load_parameters(\"LeNet.params\",ctx=ctx)\n",
    "train_till_acc(LeNet, 0.988, 0.01, 100)"
   ]
  },
  {
   "cell_type": "code",
   "execution_count": 24,
   "metadata": {},
   "outputs": [
    {
     "output_type": "stream",
     "name": "stdout",
     "text": "training acc at epoch 1: acc=0.939500\ntraining acc at epoch 2: acc=0.961100\ntraining acc at epoch 3: acc=0.969100\ntraining acc at epoch 4: acc=0.974300\ntraining acc at epoch 5: acc=0.974200\ntraining acc at epoch 6: acc=0.979700\ntraining acc at epoch 7: acc=0.980800\ntraining acc at epoch 8: acc=0.978600\ntraining acc at epoch 9: acc=0.982100\ntraining acc at epoch 10: acc=0.980100\ntraining acc at epoch 11: acc=0.985200\ntraining acc at epoch 12: acc=0.983100\ntraining acc at epoch 13: acc=0.985800\ntraining acc at epoch 14: acc=0.985100\ntraining acc at epoch 15: acc=0.986300\ntraining acc at epoch 16: acc=0.983800\ntraining acc at epoch 17: acc=0.984500\ntraining acc at epoch 18: acc=0.986400\ntraining acc at epoch 19: acc=0.987300\ntraining acc at epoch 20: acc=0.986900\ntraining acc at epoch 21: acc=0.985700\ntraining acc at epoch 22: acc=0.986000\ntraining acc at epoch 23: acc=0.985500\ntraining acc at epoch 24: acc=0.987400\ntraining acc at epoch 25: acc=0.987600\ntraining acc at epoch 26: acc=0.984100\ntraining acc at epoch 27: acc=0.987200\ntraining acc at epoch 28: acc=0.987700\ntraining acc at epoch 29: acc=0.988100\n"
    }
   ],
   "source": [
    "LeNet = CNN_Model('LeNet')\n",
    "LeNet.load_parameters(\"LeNet.params\",ctx=ctx)\n",
    "train_till_acc(LeNet, 0.988, 0.01, 50)"
   ]
  },
  {
   "cell_type": "code",
   "execution_count": 25,
   "metadata": {},
   "outputs": [
    {
     "output_type": "stream",
     "name": "stdout",
     "text": "training acc at epoch 1: acc=0.970800\ntraining acc at epoch 2: acc=0.982400\ntraining acc at epoch 3: acc=0.983200\ntraining acc at epoch 4: acc=0.984900\ntraining acc at epoch 5: acc=0.987100\ntraining acc at epoch 6: acc=0.987600\ntraining acc at epoch 7: acc=0.985600\ntraining acc at epoch 8: acc=0.987800\ntraining acc at epoch 9: acc=0.985500\ntraining acc at epoch 10: acc=0.987200\ntraining acc at epoch 11: acc=0.989600\n"
    }
   ],
   "source": [
    "LeNet = CNN_Model('LeNet')\n",
    "LeNet.load_parameters(\"LeNet.params\",ctx=ctx)\n",
    "train_till_acc(LeNet, 0.988, 0.01, 10)"
   ]
  },
  {
   "cell_type": "code",
   "execution_count": 26,
   "metadata": {},
   "outputs": [
    {
     "output_type": "stream",
     "name": "stdout",
     "text": "training acc at epoch 1: acc=0.915500\ntraining acc at epoch 2: acc=0.937600\ntraining acc at epoch 3: acc=0.956700\ntraining acc at epoch 4: acc=0.962300\ntraining acc at epoch 5: acc=0.964300\ntraining acc at epoch 6: acc=0.968900\ntraining acc at epoch 7: acc=0.972600\ntraining acc at epoch 8: acc=0.974800\ntraining acc at epoch 9: acc=0.977200\ntraining acc at epoch 10: acc=0.978300\ntraining acc at epoch 11: acc=0.981500\ntraining acc at epoch 12: acc=0.978500\ntraining acc at epoch 13: acc=0.980900\ntraining acc at epoch 14: acc=0.980800\ntraining acc at epoch 15: acc=0.981300\ntraining acc at epoch 16: acc=0.982300\ntraining acc at epoch 17: acc=0.983000\ntraining acc at epoch 18: acc=0.981500\ntraining acc at epoch 19: acc=0.982100\ntraining acc at epoch 20: acc=0.984400\ntraining acc at epoch 21: acc=0.984600\ntraining acc at epoch 22: acc=0.984600\ntraining acc at epoch 23: acc=0.983300\ntraining acc at epoch 24: acc=0.983000\ntraining acc at epoch 25: acc=0.982800\ntraining acc at epoch 26: acc=0.984800\ntraining acc at epoch 27: acc=0.981800\ntraining acc at epoch 28: acc=0.985800\ntraining acc at epoch 29: acc=0.984800\ntraining acc at epoch 30: acc=0.982100\ntraining acc at epoch 31: acc=0.984900\ntraining acc at epoch 32: acc=0.985300\ntraining acc at epoch 33: acc=0.987100\ntraining acc at epoch 34: acc=0.985400\ntraining acc at epoch 35: acc=0.985100\ntraining acc at epoch 36: acc=0.987200\ntraining acc at epoch 37: acc=0.987000\ntraining acc at epoch 38: acc=0.987700\ntraining acc at epoch 39: acc=0.985800\ntraining acc at epoch 40: acc=0.986500\ntraining acc at epoch 41: acc=0.984400\ntraining acc at epoch 42: acc=0.987700\ntraining acc at epoch 43: acc=0.986800\ntraining acc at epoch 44: acc=0.987200\ntraining acc at epoch 45: acc=0.987700\ntraining acc at epoch 46: acc=0.986900\ntraining acc at epoch 47: acc=0.987700\ntraining acc at epoch 48: acc=0.987100\ntraining acc at epoch 49: acc=0.987100\ntraining acc at epoch 50: acc=0.987300\ntraining acc at epoch 51: acc=0.987200\ntraining acc at epoch 52: acc=0.985600\ntraining acc at epoch 53: acc=0.984800\ntraining acc at epoch 54: acc=0.988700\n"
    }
   ],
   "source": [
    "LeNet = CNN_Model('LeNet')\n",
    "LeNet.load_parameters(\"LeNet.params\",ctx=ctx)\n",
    "train_till_acc(LeNet, 0.988, 0.02, 200)"
   ]
  },
  {
   "cell_type": "code",
   "execution_count": 27,
   "metadata": {},
   "outputs": [
    {
     "output_type": "stream",
     "name": "stdout",
     "text": "training acc at epoch 1: acc=0.937100\ntraining acc at epoch 2: acc=0.952800\ntraining acc at epoch 3: acc=0.967000\ntraining acc at epoch 4: acc=0.975800\ntraining acc at epoch 5: acc=0.978300\ntraining acc at epoch 6: acc=0.978000\ntraining acc at epoch 7: acc=0.977200\ntraining acc at epoch 8: acc=0.981300\ntraining acc at epoch 9: acc=0.981800\ntraining acc at epoch 10: acc=0.982700\ntraining acc at epoch 11: acc=0.985800\ntraining acc at epoch 12: acc=0.984000\ntraining acc at epoch 13: acc=0.985500\ntraining acc at epoch 14: acc=0.984600\ntraining acc at epoch 15: acc=0.985800\ntraining acc at epoch 16: acc=0.985400\ntraining acc at epoch 17: acc=0.983700\ntraining acc at epoch 18: acc=0.984700\ntraining acc at epoch 19: acc=0.986500\ntraining acc at epoch 20: acc=0.985600\ntraining acc at epoch 21: acc=0.986400\ntraining acc at epoch 22: acc=0.983200\ntraining acc at epoch 23: acc=0.985100\ntraining acc at epoch 24: acc=0.985400\ntraining acc at epoch 25: acc=0.987000\ntraining acc at epoch 26: acc=0.986400\ntraining acc at epoch 27: acc=0.988100\n"
    }
   ],
   "source": [
    "LeNet = CNN_Model('LeNet')\n",
    "LeNet.load_parameters(\"LeNet.params\",ctx=ctx)\n",
    "train_till_acc(LeNet, 0.988, 0.02, 100)"
   ]
  },
  {
   "cell_type": "code",
   "execution_count": 28,
   "metadata": {},
   "outputs": [
    {
     "output_type": "stream",
     "name": "stdout",
     "text": "training acc at epoch 1: acc=0.960500\ntraining acc at epoch 2: acc=0.964100\ntraining acc at epoch 3: acc=0.974900\ntraining acc at epoch 4: acc=0.979200\ntraining acc at epoch 5: acc=0.983600\ntraining acc at epoch 6: acc=0.982000\ntraining acc at epoch 7: acc=0.984400\ntraining acc at epoch 8: acc=0.985800\ntraining acc at epoch 9: acc=0.984400\ntraining acc at epoch 10: acc=0.985400\ntraining acc at epoch 11: acc=0.986700\ntraining acc at epoch 12: acc=0.986600\ntraining acc at epoch 13: acc=0.983800\ntraining acc at epoch 14: acc=0.987800\ntraining acc at epoch 15: acc=0.987500\ntraining acc at epoch 16: acc=0.987900\ntraining acc at epoch 17: acc=0.987600\ntraining acc at epoch 18: acc=0.988000\n"
    }
   ],
   "source": [
    "LeNet = CNN_Model('LeNet')\n",
    "LeNet.load_parameters(\"LeNet.params\",ctx=ctx)\n",
    "train_till_acc(LeNet, 0.988, 0.02, 50)"
   ]
  },
  {
   "cell_type": "code",
   "execution_count": 29,
   "metadata": {},
   "outputs": [
    {
     "output_type": "stream",
     "name": "stdout",
     "text": "training acc at epoch 1: acc=0.975100\ntraining acc at epoch 2: acc=0.975700\ntraining acc at epoch 3: acc=0.983300\ntraining acc at epoch 4: acc=0.989000\n"
    }
   ],
   "source": [
    "LeNet = CNN_Model('LeNet')\n",
    "LeNet.load_parameters(\"LeNet.params\",ctx=ctx)\n",
    "train_till_acc(LeNet, 0.988, 0.02, 10)"
   ]
  },
  {
   "cell_type": "code",
   "execution_count": 30,
   "metadata": {},
   "outputs": [
    {
     "output_type": "stream",
     "name": "stdout",
     "text": "training acc at epoch 1: acc=0.940900\ntraining acc at epoch 2: acc=0.960800\ntraining acc at epoch 3: acc=0.968100\ntraining acc at epoch 4: acc=0.976800\ntraining acc at epoch 5: acc=0.979100\ntraining acc at epoch 6: acc=0.979100\ntraining acc at epoch 7: acc=0.982200\ntraining acc at epoch 8: acc=0.981600\ntraining acc at epoch 9: acc=0.982800\ntraining acc at epoch 10: acc=0.980000\ntraining acc at epoch 11: acc=0.984700\ntraining acc at epoch 12: acc=0.984900\ntraining acc at epoch 13: acc=0.982100\ntraining acc at epoch 14: acc=0.985400\ntraining acc at epoch 15: acc=0.985800\ntraining acc at epoch 16: acc=0.985300\ntraining acc at epoch 17: acc=0.982500\ntraining acc at epoch 18: acc=0.986200\ntraining acc at epoch 19: acc=0.985700\ntraining acc at epoch 20: acc=0.987200\ntraining acc at epoch 21: acc=0.986400\ntraining acc at epoch 22: acc=0.986000\ntraining acc at epoch 23: acc=0.985200\ntraining acc at epoch 24: acc=0.986400\ntraining acc at epoch 25: acc=0.987800\ntraining acc at epoch 26: acc=0.987300\ntraining acc at epoch 27: acc=0.987900\ntraining acc at epoch 28: acc=0.987400\ntraining acc at epoch 29: acc=0.987200\ntraining acc at epoch 30: acc=0.986000\ntraining acc at epoch 31: acc=0.987300\ntraining acc at epoch 32: acc=0.986800\ntraining acc at epoch 33: acc=0.987400\ntraining acc at epoch 34: acc=0.988800\n"
    }
   ],
   "source": [
    "LeNet = CNN_Model('LeNet')\n",
    "LeNet.load_parameters(\"LeNet.params\",ctx=ctx)\n",
    "train_till_acc(LeNet, 0.988, 0.04, 200)"
   ]
  },
  {
   "cell_type": "code",
   "execution_count": 31,
   "metadata": {},
   "outputs": [
    {
     "output_type": "stream",
     "name": "stdout",
     "text": "training acc at epoch 1: acc=0.962200\ntraining acc at epoch 2: acc=0.973200\ntraining acc at epoch 3: acc=0.981200\ntraining acc at epoch 4: acc=0.982000\ntraining acc at epoch 5: acc=0.982900\ntraining acc at epoch 6: acc=0.981600\ntraining acc at epoch 7: acc=0.986700\ntraining acc at epoch 8: acc=0.984100\ntraining acc at epoch 9: acc=0.987000\ntraining acc at epoch 10: acc=0.983400\ntraining acc at epoch 11: acc=0.984800\ntraining acc at epoch 12: acc=0.986600\ntraining acc at epoch 13: acc=0.988300\n"
    }
   ],
   "source": [
    "LeNet = CNN_Model('LeNet')\n",
    "LeNet.load_parameters(\"LeNet.params\",ctx=ctx)\n",
    "train_till_acc(LeNet, 0.988, 0.04, 100)"
   ]
  },
  {
   "cell_type": "code",
   "execution_count": 32,
   "metadata": {},
   "outputs": [
    {
     "output_type": "stream",
     "name": "stdout",
     "text": "training acc at epoch 1: acc=0.969700\ntraining acc at epoch 2: acc=0.977900\ntraining acc at epoch 3: acc=0.983000\ntraining acc at epoch 4: acc=0.984200\ntraining acc at epoch 5: acc=0.986800\ntraining acc at epoch 6: acc=0.987900\ntraining acc at epoch 7: acc=0.985500\ntraining acc at epoch 8: acc=0.987400\ntraining acc at epoch 9: acc=0.987400\ntraining acc at epoch 10: acc=0.986000\ntraining acc at epoch 11: acc=0.988800\n"
    }
   ],
   "source": [
    "LeNet = CNN_Model('LeNet')\n",
    "LeNet.load_parameters(\"LeNet.params\",ctx=ctx)\n",
    "train_till_acc(LeNet, 0.988, 0.04, 50)"
   ]
  },
  {
   "cell_type": "code",
   "execution_count": 33,
   "metadata": {},
   "outputs": [
    {
     "output_type": "stream",
     "name": "stdout",
     "text": "training acc at epoch 1: acc=0.981300\ntraining acc at epoch 2: acc=0.981000\ntraining acc at epoch 3: acc=0.987900\ntraining acc at epoch 4: acc=0.985300\ntraining acc at epoch 5: acc=0.987000\ntraining acc at epoch 6: acc=0.989800\n"
    }
   ],
   "source": [
    "LeNet = CNN_Model('LeNet')\n",
    "LeNet.load_parameters(\"LeNet.params\",ctx=ctx)\n",
    "train_till_acc(LeNet, 0.988, 0.04, 10)"
   ]
  },
  {
   "cell_type": "code",
   "execution_count": null,
   "metadata": {},
   "outputs": [],
   "source": []
  }
 ]
}