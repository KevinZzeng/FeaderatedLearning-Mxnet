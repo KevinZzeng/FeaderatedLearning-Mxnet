{
 "cells": [
  {
   "cell_type": "markdown",
   "metadata": {},
   "source": [
    "## FedAvg实验数据处理\n",
    "将60,000张mnist图片分为600张/client，即100个client\n",
    "保证数据为IID\n",
    "\n",
    "mnist数据分布：\n",
    "[5923, 6742, 5958, 6131, 5842, 5421, 5918, 6265, 5851, 5949]"
   ]
  },
  {
   "cell_type": "code",
   "execution_count": 1,
   "metadata": {},
   "outputs": [],
   "source": [
    "import mxnet as mx\n",
    "import numpy as np"
   ]
  },
  {
   "cell_type": "code",
   "execution_count": 2,
   "metadata": {},
   "outputs": [],
   "source": [
    "mnist = mx.test_utils.get_mnist()"
   ]
  },
  {
   "cell_type": "code",
   "execution_count": 3,
   "metadata": {},
   "outputs": [],
   "source": [
    "data = mnist['train_data']\n",
    "label = mnist['train_label']"
   ]
  },
  {
   "cell_type": "code",
   "execution_count": 4,
   "metadata": {},
   "outputs": [
    {
     "output_type": "execute_result",
     "data": {
      "text/plain": "(60000, 1, 28, 28)"
     },
     "metadata": {},
     "execution_count": 4
    }
   ],
   "source": [
    "data.shape"
   ]
  },
  {
   "cell_type": "code",
   "execution_count": 7,
   "metadata": {},
   "outputs": [
    {
     "output_type": "execute_result",
     "data": {
      "text/plain": "(60, 1, 28, 28)"
     },
     "metadata": {},
     "execution_count": 7
    }
   ],
   "source": [
    "data[0:60].shape"
   ]
  },
  {
   "cell_type": "code",
   "execution_count": 5,
   "metadata": {},
   "outputs": [
    {
     "output_type": "execute_result",
     "data": {
      "text/plain": "(60000,)"
     },
     "metadata": {},
     "execution_count": 5
    }
   ],
   "source": [
    "label.shape"
   ]
  },
  {
   "cell_type": "code",
   "execution_count": 4,
   "metadata": {},
   "outputs": [],
   "source": [
    "client_ = {}\n",
    "for i in range(100):\n",
    "    client_[\"data\" + str(i)] = data[600*i: 600*i+600]\n",
    "    client_[\"label\" + str(i)] = label[600*i: 600*i+600]\n",
    "for i in range(100):\n",
    "    np.save(\".\\\\FedAvg_data\\\\train_data\"+str(i)+\".npy\",client_[\"data\"+str(i)])\n",
    "    np.save(\".\\\\FedAvg_data\\\\train_label\"+str(i)+\".npy\",client_[\"label\"+str(i)])\n",
    ""
   ]
  },
  {
   "cell_type": "markdown",
   "metadata": {},
   "source": [
    "Non-IID数据集分割\n",
    "600pic/client"
   ]
  },
  {
   "cell_type": "code",
   "execution_count": 1,
   "metadata": {},
   "outputs": [],
   "source": [
    "import mxnet as mx\n",
    "import numpy as np\n",
    "import random\n",
    "mnist = mx.test_utils.get_mnist()\n",
    "data = mnist['train_data']\n",
    "label = mnist['train_label']"
   ]
  },
  {
   "cell_type": "code",
   "execution_count": 2,
   "metadata": {},
   "outputs": [],
   "source": [
    "pic_data = [[],[],[],[],[],[],[],[],[],[]]"
   ]
  },
  {
   "cell_type": "code",
   "execution_count": 3,
   "metadata": {},
   "outputs": [],
   "source": [
    "for x,y in zip(data,label):\n",
    "    pic_data[y].append(x)"
   ]
  },
  {
   "cell_type": "code",
   "execution_count": 4,
   "metadata": {},
   "outputs": [],
   "source": [
    "sorted_data = []\n",
    "sorted_label = []\n",
    "label = 0\n",
    "for pic in pic_data:\n",
    "    sorted_data += pic\n",
    "    sorted_label += [label]*len(pic)\n",
    "    label += 1"
   ]
  },
  {
   "cell_type": "code",
   "execution_count": 5,
   "metadata": {},
   "outputs": [],
   "source": [
    "shard = 300\n",
    "shard_data = []\n",
    "shard_label = []\n",
    "for i in range(200):\n",
    "    shard_data.append(sorted_data[i*shard:(i+1)*shard])\n",
    "    shard_label.append(sorted_label[i*shard:(i+1)*shard])\n"
   ]
  },
  {
   "cell_type": "code",
   "execution_count": 6,
   "metadata": {},
   "outputs": [],
   "source": [
    "rand_list = [x for x in range(200)]\n",
    "random.shuffle(rand_list)"
   ]
  },
  {
   "cell_type": "code",
   "execution_count": 8,
   "metadata": {},
   "outputs": [],
   "source": [
    "for cid in range(100):\n",
    "    data = shard_data[cid] + shard_data[cid+100]\n",
    "    data = np.array(data)\n",
    "    np.save(\".\\\\FedAvg_data_Non-IID\\\\train_data\"+str(cid)+\".npy\",data)\n",
    "    label = shard_label[cid] + shard_label[cid+100]\n",
    "    label = np.array(label)\n",
    "    np.save(\".\\\\FedAvg_data_Non-IID\\\\train_label\"+str(cid)+\".npy\",label)"
   ]
  },
  {
   "cell_type": "code",
   "execution_count": 10,
   "metadata": {},
   "outputs": [
    {
     "output_type": "execute_result",
     "data": {
      "text/plain": "300"
     },
     "metadata": {},
     "execution_count": 10
    }
   ],
   "source": [
    "len(shard_label[0])"
   ]
  },
  {
   "cell_type": "code",
   "execution_count": null,
   "metadata": {},
   "outputs": [],
   "source": []
  }
 ],
 "metadata": {
  "language_info": {
   "name": "python",
   "codemirror_mode": {
    "name": "ipython",
    "version": 3
   },
   "version": "3.7.4-final"
  },
  "orig_nbformat": 2,
  "file_extension": ".py",
  "mimetype": "text/x-python",
  "name": "python",
  "npconvert_exporter": "python",
  "pygments_lexer": "ipython3",
  "version": 3,
  "kernelspec": {
   "name": "python37464bit000112c82aae46049a43b9e45b233c07",
   "display_name": "Python 3.7.4 64-bit"
  }
 },
 "nbformat": 4,
 "nbformat_minor": 2
}