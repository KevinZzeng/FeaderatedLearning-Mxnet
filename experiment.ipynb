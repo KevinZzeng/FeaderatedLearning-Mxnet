{
 "nbformat": 4,
 "nbformat_minor": 2,
 "metadata": {
  "language_info": {
   "name": "python",
   "codemirror_mode": {
    "name": "ipython",
    "version": 3
   },
   "version": "3.7.4-final"
  },
  "orig_nbformat": 2,
  "file_extension": ".py",
  "mimetype": "text/x-python",
  "name": "python",
  "npconvert_exporter": "python",
  "pygments_lexer": "ipython3",
  "version": 3,
  "kernelspec": {
   "name": "python37464bit000112c82aae46049a43b9e45b233c07",
   "display_name": "Python 3.7.4 64-bit"
  }
 },
 "cells": [
  {
   "cell_type": "markdown",
   "metadata": {},
   "source": [
    "实验MLP和LeNet在集中数据集训练下的模型收敛情况"
   ]
  },
  {
   "cell_type": "code",
   "execution_count": 1,
   "metadata": {},
   "outputs": [],
   "source": [
    "import mxnet as mx\n",
    "from mxnet import gluon\n",
    "from mxnet.gluon import nn\n",
    "from mxnet import autograd as ag\n",
    "from mxnet import ndarray as nd\n",
    "from Algorithm.CNN import CNN_Model\n",
    "from Algorithm.MLP import MLP\n",
    "from Tools import utils"
   ]
  },
  {
   "cell_type": "code",
   "execution_count": 2,
   "metadata": {},
   "outputs": [],
   "source": [
    "LeNet = CNN_Model('LeNet')\n",
    "mlp = MLP()\n",
    "ctx = utils.try_all_gpus()"
   ]
  },
  {
   "cell_type": "code",
   "execution_count": 3,
   "metadata": {},
   "outputs": [],
   "source": [
    "LeNet.initialize(init=mx.initializer.Xavier(),ctx=ctx)\n",
    "mlp.initialize(init=mx.initializer.Xavier(),ctx=ctx)\n",
    "mnist = mx.test_utils.get_mnist()\n",
    "batch_size = 100\n",
    "train_data = mx.io.NDArrayIter(mnist['train_data'], mnist['train_label'], batch_size, shuffle=True)\n",
    "val_data = mx.io.NDArrayIter(mnist['test_data'], mnist['test_label'], batch_size)"
   ]
  },
  {
   "cell_type": "code",
   "execution_count": 4,
   "metadata": {},
   "outputs": [],
   "source": [
    "def validation(val_data, net):\n",
    "    metric = mx.metric.Accuracy()\n",
    "    val_data.reset()\n",
    "    for batch in val_data:\n",
    "        data = gluon.utils.split_and_load(batch.data[0], ctx_list=ctx, batch_axis=0)\n",
    "        label = gluon.utils.split_and_load(batch.label[0], ctx_list=ctx, batch_axis=0)\n",
    "        outputs = []\n",
    "        for x in data:\n",
    "            outputs.append(net(x))\n",
    "        metric.update(label, outputs)\n",
    "    name,acc =metric.get()\n",
    "    print('validation acc: %s=%f'%(name,acc))\n",
    "    return acc\n",
    "\n",
    "def train(net, data, epoch, stop_acc):\n",
    "    trainer = gluon.Trainer(net.collect_params(), 'sgd', {'learning_rate': 0.02})\n",
    "    metric = mx.metric.Accuracy()\n",
    "    softmax_cross_entropy_loss = gluon.loss.SoftmaxCrossEntropyLoss()\n",
    "    for i in range(epoch):\n",
    "        train_data.reset()\n",
    "        for batch in train_data:\n",
    "            data = gluon.utils.split_and_load(batch.data[0], ctx_list=ctx, batch_axis=0)\n",
    "            label = gluon.utils.split_and_load(batch.label[0], ctx_list=ctx, batch_axis=0)\n",
    "            outputs = []\n",
    "            with ag.record():\n",
    "                for x, y in zip(data, label):\n",
    "                    z = net(x)\n",
    "                    loss = softmax_cross_entropy_loss(z, y)\n",
    "                    loss.backward()\n",
    "                    outputs.append(z)\n",
    "            metric.update(label, outputs)\n",
    "            trainer.step(batch.data[0].shape[0])\n",
    "        name, acc = metric.get()\n",
    "        metric.reset()\n",
    "        print('training acc at epoch %d: %s=%f'%(i, name, acc))\n",
    "\n",
    "def train_till_acc(net, stop_acc, lr, batch_size):\n",
    "    train_data = mx.io.NDArrayIter(mnist['train_data'], mnist['train_label'], batch_size, shuffle=True)\n",
    "    val_data = mx.io.NDArrayIter(mnist['test_data'], mnist['test_label'], batch_size)\n",
    "    trainer = gluon.Trainer(net.collect_params(), 'sgd', {'learning_rate': lr})\n",
    "    softmax_cross_entropy_loss = gluon.loss.SoftmaxCrossEntropyLoss()\n",
    "    i=0\n",
    "    while(True):\n",
    "        train_data.reset()\n",
    "        for batch in train_data:\n",
    "            data = gluon.utils.split_and_load(batch.data[0], ctx_list=ctx, batch_axis=0)\n",
    "            label = gluon.utils.split_and_load(batch.label[0], ctx_list=ctx, batch_axis=0)\n",
    "            outputs = []\n",
    "            with ag.record():\n",
    "                for x, y in zip(data, label):\n",
    "                    z = net(x)\n",
    "                    loss = softmax_cross_entropy_loss(z, y)\n",
    "                    loss.backward()\n",
    "                    outputs.append(z)\n",
    "            metric.update(label, outputs)\n",
    "            trainer.step(batch.data[0].shape[0])\n",
    "        acc = validation(val_data,net)\n",
    "        if acc >= stop_acc:\n",
    "            break\n",
    "        else:\n",
    "            i += 1\n",
    "            print('training acc at epoch %d: acc=%f'%(i, acc))"
   ]
  },
  {
   "cell_type": "code",
   "execution_count": 5,
   "metadata": {},
   "outputs": [
    {
     "output_type": "stream",
     "name": "stdout",
     "text": "training acc at epoch 0: accuracy=0.794767\n"
    }
   ],
   "source": [
    "train(mlp, train_data, 1)"
   ]
  },
  {
   "cell_type": "code",
   "execution_count": 6,
   "metadata": {},
   "outputs": [
    {
     "output_type": "stream",
     "name": "stdout",
     "text": "validation acc: accuracy=0.897000\n"
    },
    {
     "output_type": "execute_result",
     "data": {
      "text/plain": "0.897"
     },
     "metadata": {},
     "execution_count": 6
    }
   ],
   "source": [
    "validation(val_data, mlp)"
   ]
  },
  {
   "cell_type": "code",
   "execution_count": 7,
   "metadata": {},
   "outputs": [
    {
     "output_type": "stream",
     "name": "stdout",
     "text": "training acc at epoch 0: accuracy=0.737350\n"
    }
   ],
   "source": [
    "train(LeNet,train_data,1)"
   ]
  },
  {
   "cell_type": "code",
   "execution_count": 8,
   "metadata": {},
   "outputs": [
    {
     "output_type": "stream",
     "name": "stdout",
     "text": "validation acc: accuracy=0.919700\n"
    },
    {
     "output_type": "execute_result",
     "data": {
      "text/plain": "0.9197"
     },
     "metadata": {},
     "execution_count": 8
    }
   ],
   "source": [
    "validation(val_data, LeNet)"
   ]
  },
  {
   "cell_type": "code",
   "execution_count": 10,
   "metadata": {},
   "outputs": [
    {
     "output_type": "execute_result",
     "data": {
      "text/plain": "\n[[ 0.0079186   0.01506139  0.03490832 ...  0.04762334 -0.05183759\n  -0.02541927]\n [ 0.06057825 -0.07930771  0.07600733 ... -0.03930367  0.02262817\n  -0.05705202]\n [-0.04488811 -0.02812008  0.00375759 ... -0.03395101 -0.00274882\n  -0.0018217 ]\n ...\n [ 0.02491552 -0.04777068 -0.06245412 ... -0.05506866  0.00573815\n  -0.04120179]\n [ 0.01849365  0.06660184  0.06971296 ... -0.01355646 -0.01250703\n   0.03720766]\n [ 0.05493402  0.01987972  0.0336106  ...  0.02365118 -0.05372665\n  -0.0321993 ]]\n<NDArray 128x784 @gpu(0)>"
     },
     "metadata": {},
     "execution_count": 10
    }
   ],
   "source": [
    "mlp[0].weight.data()"
   ]
  },
  {
   "cell_type": "code",
   "execution_count": 13,
   "metadata": {},
   "outputs": [],
   "source": [
    "zero = nd.zeros(shape=mlp[0].weight.data().shape,ctx=ctx[0])"
   ]
  },
  {
   "cell_type": "code",
   "execution_count": 14,
   "metadata": {},
   "outputs": [],
   "source": [
    "mlp[0].weight.data()[:] = zero[:]"
   ]
  },
  {
   "cell_type": "code",
   "execution_count": 15,
   "metadata": {},
   "outputs": [
    {
     "output_type": "execute_result",
     "data": {
      "text/plain": "\n[[0. 0. 0. ... 0. 0. 0.]\n [0. 0. 0. ... 0. 0. 0.]\n [0. 0. 0. ... 0. 0. 0.]\n ...\n [0. 0. 0. ... 0. 0. 0.]\n [0. 0. 0. ... 0. 0. 0.]\n [0. 0. 0. ... 0. 0. 0.]]\n<NDArray 128x784 @gpu(0)>"
     },
     "metadata": {},
     "execution_count": 15
    }
   ],
   "source": [
    "mlp[0].weight.data()"
   ]
  },
  {
   "cell_type": "code",
   "execution_count": 16,
   "metadata": {},
   "outputs": [],
   "source": [
    "for layer in LeNet:\n",
    "    try:\n",
    "        zero_w = nd.zeros(shape=layer.weight.data().shape,ctx=self.__ctx[0])\n",
    "        layer.weight.data()[:] = zero_w[:]\n",
    "        zero_b = nd.zeros(shape=layer.bias.data().shape,ctx=self.__ctx[0])\n",
    "        layer.bias.data()[:] = zero_b[:]\n",
    "    except:\n",
    "        continue"
   ]
  },
  {
   "cell_type": "code",
   "execution_count": 20,
   "metadata": {},
   "outputs": [
    {
     "output_type": "execute_result",
     "data": {
      "text/plain": "(6, 1, 5, 5)"
     },
     "metadata": {},
     "execution_count": 20
    }
   ],
   "source": [
    "LeNet[0].weight.data().shape"
   ]
  },
  {
   "cell_type": "code",
   "execution_count": 22,
   "metadata": {},
   "outputs": [],
   "source": [
    "z = nd.zeros(shape=LeNet[0].weight.data().shape,ctx=ctx[0])"
   ]
  },
  {
   "cell_type": "code",
   "execution_count": 23,
   "metadata": {},
   "outputs": [],
   "source": [
    "LeNet[0].weight.data()[:] = z"
   ]
  },
  {
   "cell_type": "code",
   "execution_count": null,
   "metadata": {},
   "outputs": [],
   "source": []
  }
 ]
}