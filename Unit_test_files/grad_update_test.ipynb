{
 "nbformat": 4,
 "nbformat_minor": 2,
 "metadata": {
  "language_info": {
   "name": "python",
   "codemirror_mode": {
    "name": "ipython",
    "version": 3
   },
   "version": "3.7.4-final"
  },
  "orig_nbformat": 2,
  "file_extension": ".py",
  "mimetype": "text/x-python",
  "name": "python",
  "npconvert_exporter": "python",
  "pygments_lexer": "ipython3",
  "version": 3,
  "kernelspec": {
   "name": "python37464bit000112c82aae46049a43b9e45b233c07",
   "display_name": "Python 3.7.4 64-bit"
  }
 },
 "cells": [
  {
   "cell_type": "markdown",
   "metadata": {},
   "source": [
    "测试梯度更新算法可行性\n",
    "以及for循环遍历神经网络层可行性"
   ]
  },
  {
   "cell_type": "code",
   "execution_count": 1,
   "metadata": {},
   "outputs": [],
   "source": [
    "from mxnet import gluon\n",
    "from mxnet.gluon import nn\n",
    "from mxnet import autograd as ag\n",
    "from mxnet import ndarray as nd\n",
    "from mxnet.gluon import loss \n",
    "import copy\n",
    "\n",
    "def LeNet_(activation='relu'):\n",
    "    # 获取一个结构定义完整的LeNet卷积神经网络\n",
    "    # 激活函数可自选 默认为sigmoid\n",
    "    net = nn.Sequential()\n",
    "    net.add(nn.Conv2D(channels=6, kernel_size=(5,5), activation=activation),\n",
    "            nn.MaxPool2D(pool_size=(2,2), strides=(2,2)),\n",
    "            nn.Conv2D(channels=16, kernel_size=(5,5), activation=activation),\n",
    "            nn.MaxPool2D(pool_size=(2,2), strides=(2,2)),\n",
    "            # Dense会默认将(批量大小， 通道， 高， 宽)形状的输入转换成\n",
    "            # (批量大小， 通道 * 高 * 宽)形状的输入\n",
    "            nn.Dense(120, activation=activation),\n",
    "            nn.Dense(84, activation=activation),\n",
    "            nn.Dense(10))\n",
    "    return net"
   ]
  },
  {
   "cell_type": "code",
   "execution_count": 2,
   "metadata": {},
   "outputs": [
    {
     "output_type": "execute_result",
     "data": {
      "text/plain": "'\\nnet.initialize(mx.init.Xavier(magnitude=2.24),ctx=ctx)\\n_ = net(nd.random.uniform(shape=input_shape,ctx=ctx[0]))\\n'"
     },
     "metadata": {},
     "execution_count": 2
    }
   ],
   "source": [
    "import mxnet as mx\n",
    "net = LeNet_()\n",
    "input_shape = (1,1,28,28)\n",
    "ctx = [mx.gpu()]\n",
    "mx.random.seed(42)\n",
    "net.load_parameters(\"recv_model.params\",ctx=ctx)\n",
    "\"\"\"\n",
    "net.initialize(mx.init.Xavier(magnitude=2.24),ctx=ctx)\n",
    "_ = net(nd.random.uniform(shape=input_shape,ctx=ctx[0]))\n",
    "\"\"\""
   ]
  },
  {
   "cell_type": "code",
   "execution_count": 3,
   "metadata": {},
   "outputs": [
    {
     "output_type": "stream",
     "name": "stdout",
     "text": "验证集准确率 validation acc:accuracy=0.120000\n"
    }
   ],
   "source": [
    "#验证\n",
    "#val_x,val_y = val_data_set[0],val_data_set[1]\n",
    "#val_data = mx.io.NDArrayIter(val_x,val_y,batch_size=100)\n",
    "mnist = mx.test_utils.get_mnist()\n",
    "val_data = mx.io.NDArrayIter(mnist['test_data'],mnist['test_label'],batch_size=100)    \n",
    "for batch in val_data:\n",
    "    data = gluon.utils.split_and_load(batch.data[0],ctx_list=ctx,batch_axis=0)\n",
    "    label = gluon.utils.split_and_load(batch.label[0],ctx_list=ctx,batch_axis=0)\n",
    "    outputs = []\n",
    "    metric = mx.metric.Accuracy()\n",
    "    for x in data:\n",
    "        outputs.append(net(x))\n",
    "    metric.update(label,outputs)\n",
    "print('验证集准确率 validation acc:%s=%f'%metric.get())"
   ]
  },
  {
   "cell_type": "code",
   "execution_count": 4,
   "metadata": {},
   "outputs": [],
   "source": [
    "\n",
    "def init_gradient(net,local_gradient=[]):\n",
    "    local_gradient['weight'].clear()\n",
    "    local_gradient['bias'].clear()\n",
    "    for layer in net:\n",
    "        try:\n",
    "            shape_w = layer.weight.data().shape\n",
    "            shape_b = layer.bias.data().shape\n",
    "        except:\n",
    "            continue\n",
    "        local_gradient['weight'].append(nd.zeros(shape=shape_w,ctx=ctx[0]))\n",
    "        local_gradient['bias'].append(nd.zeros(shape=shape_b,ctx=ctx[0]))\n",
    "    \n",
    "def collect_gradient(net, local_gradient,batch_size):\n",
    "    idx = 0\n",
    "    for layer in net:\n",
    "        try:\n",
    "            grad_w = layer.weight.data().grad\n",
    "            grad_b = layer.bias.data().grad\n",
    "        except:\n",
    "            continue\n",
    "        local_gradient['weight'][idx] = local_gradient['weight'][idx] + grad_w.as_in_context(local_gradient['weight'][idx].context)/batch_size\n",
    "        local_gradient['bias'][idx] = local_gradient['bias'][idx] + grad_b.as_in_context(local_gradient['bias'][idx].context)/batch_size\n",
    "        idx+=1\n",
    "\n",
    "def updata_gradient(net,gradient_info,learning_rate):\n",
    "    # 由Client回传的梯度信息 更新Server模型\n",
    "    idx = 0\n",
    "    grad_w = gradient_info['weight']\n",
    "    grad_b = gradient_info['bias']\n",
    "    update_flag = False\n",
    "    for layer in net:\n",
    "        try:\n",
    "            layer.weight.data()[:] = layer.weight.data()[:] - learning_rate*grad_w[idx]\n",
    "            #layer.weight.set_data(layer.weight.data()[:] - learning_rate*gradient_info[idx])\n",
    "            layer.bias.data()[:] = layer.bias.data()[:] - learning_rate*grad_b[idx]\n",
    "        except:\n",
    "            continue\n",
    "        idx += 1\n",
    "    \"\"\"\n",
    "    if update_flag:\n",
    "        print(\"-gradient successfully updated-\")\n",
    "    else:\n",
    "        print(\"-gradient failure-\")\n",
    "    \"\"\"\n",
    ""
   ]
  },
  {
   "cell_type": "code",
   "execution_count": 5,
   "metadata": {
    "tags": [
     "outputPrepend",
     "outputPrepend",
     "outputPrepend",
     "outputPrepend",
     "outputPrepend",
     "outputPrepend",
     "outputPrepend",
     "outputPrepend",
     "outputPrepend",
     "outputPrepend",
     "outputPrepend",
     "outputPrepend",
     "outputPrepend",
     "outputPrepend",
     "outputPrepend",
     "outputPrepend",
     "outputPrepend",
     "outputPrepend",
     "outputPrepend",
     "outputPrepend",
     "outputPrepend",
     "outputPrepend",
     "outputPrepend",
     "outputPrepend",
     "outputPrepend",
     "outputPrepend",
     "outputPrepend",
     "outputPrepend",
     "outputPrepend",
     "outputPrepend",
     "outputPrepend",
     "outputPrepend",
     "outputPrepend",
     "outputPrepend",
     "outputPrepend",
     "outputPrepend",
     "outputPrepend",
     "outputPrepend",
     "outputPrepend",
     "outputPrepend",
     "outputPrepend",
     "outputPrepend",
     "outputPrepend",
     "outputPrepend",
     "outputPrepend",
     "outputPrepend",
     "outputPrepend",
     "outputPrepend",
     "outputPrepend",
     "outputPrepend",
     "outputPrepend",
     "outputPrepend",
     "outputPrepend",
     "outputPrepend",
     "outputPrepend",
     "outputPrepend",
     "outputPrepend",
     "outputPrepend",
     "outputPrepend",
     "outputPrepend",
     "outputPrepend",
     "outputPrepend",
     "outputPrepend",
     "outputPrepend",
     "outputPrepend",
     "outputPrepend",
     "outputPrepend",
     "outputPrepend",
     "outputPrepend",
     "outputPrepend",
     "outputPrepend",
     "outputPrepend",
     "outputPrepend",
     "outputPrepend",
     "outputPrepend",
     "outputPrepend",
     "outputPrepend",
     "outputPrepend",
     "outputPrepend",
     "outputPrepend",
     "outputPrepend",
     "outputPrepend",
     "outputPrepend",
     "outputPrepend",
     "outputPrepend",
     "outputPrepend",
     "outputPrepend",
     "outputPrepend",
     "outputPrepend",
     "outputPrepend",
     "outputPrepend",
     "outputPrepend",
     "outputPrepend",
     "outputPrepend",
     "outputPrepend",
     "outputPrepend",
     "outputPrepend"
    ]
   },
   "outputs": [],
   "source": [
    "#训练\n",
    "train_data = mx.io.NDArrayIter(mnist['train_data'],mnist['train_label'],batch_size=100) \n",
    "epoch = 10\n",
    "metric = mx.metric.Accuracy()\n",
    "smc_loss = gluon.loss.SoftmaxCrossEntropyLoss()\n",
    "trainer = gluon.Trainer(net.collect_params(),'sgd',{'learning_rate':0.02})\n",
    "#初始化梯度\n",
    "gradient_info = {'weight':[],'bias':[]}\n",
    ""
   ]
  },
  {
   "cell_type": "code",
   "execution_count": 6,
   "metadata": {
    "tags": [
     "outputPrepend",
     "outputPrepend",
     "outputPrepend",
     "outputPrepend",
     "outputPrepend",
     "outputPrepend",
     "outputPrepend",
     "outputPrepend",
     "outputPrepend",
     "outputPrepend",
     "outputPrepend",
     "outputPrepend",
     "outputPrepend",
     "outputPrepend",
     "outputPrepend",
     "outputPrepend",
     "outputPrepend",
     "outputPrepend",
     "outputPrepend",
     "outputPrepend",
     "outputPrepend",
     "outputPrepend",
     "outputPrepend",
     "outputPrepend",
     "outputPrepend",
     "outputPrepend",
     "outputPrepend",
     "outputPrepend",
     "outputPrepend",
     "outputPrepend",
     "outputPrepend",
     "outputPrepend",
     "outputPrepend",
     "outputPrepend",
     "outputPrepend",
     "outputPrepend",
     "outputPrepend",
     "outputPrepend",
     "outputPrepend",
     "outputPrepend",
     "outputPrepend",
     "outputPrepend",
     "outputPrepend",
     "outputPrepend",
     "outputPrepend",
     "outputPrepend",
     "outputPrepend",
     "outputPrepend",
     "outputPrepend",
     "outputPrepend",
     "outputPrepend",
     "outputPrepend",
     "outputPrepend",
     "outputPrepend",
     "outputPrepend",
     "outputPrepend",
     "outputPrepend",
     "outputPrepend",
     "outputPrepend",
     "outputPrepend",
     "outputPrepend",
     "outputPrepend",
     "outputPrepend",
     "outputPrepend",
     "outputPrepend",
     "outputPrepend",
     "outputPrepend",
     "outputPrepend",
     "outputPrepend",
     "outputPrepend",
     "outputPrepend",
     "outputPrepend",
     "outputPrepend"
    ]
   },
   "outputs": [
    {
     "output_type": "stream",
     "name": "stdout",
     "text": "training acc at epoch 0, accuracy=0.727650\ntraining acc at epoch 1, accuracy=0.941783\ntraining acc at epoch 2, accuracy=0.959367\ntraining acc at epoch 3, accuracy=0.967683\ntraining acc at epoch 4, accuracy=0.972750\ntraining acc at epoch 5, accuracy=0.976033\ntraining acc at epoch 6, accuracy=0.978650\ntraining acc at epoch 7, accuracy=0.980533\ntraining acc at epoch 8, accuracy=0.981917\ntraining acc at epoch 9, accuracy=0.983383\n"
    }
   ],
   "source": [
    "# 正常训练\n",
    "epoch = 10\n",
    "origin_net = copy.deepcopy(net)\n",
    "init_gradient(origin_net,gradient_info)\n",
    "for i in range(epoch):\n",
    "    train_data.reset()\n",
    "    for batch in train_data:\n",
    "        #init_gradient(origin_net,gradient_info)\n",
    "        data = gluon.utils.split_and_load(batch.data[0], ctx_list=ctx, batch_axis=0)\n",
    "        label = gluon.utils.split_and_load(batch.label[0], ctx_list=ctx, batch_axis=0)\n",
    "        outputs = []\n",
    "        with ag.record():\n",
    "            for x,y in zip(data,label):\n",
    "                z = net(x)\n",
    "                loss = smc_loss(z, y)\n",
    "                loss.backward()\n",
    "                outputs.append(z)\n",
    "        #收集梯度\n",
    "        collect_gradient(net,gradient_info,batch_size=batch.data[0].shape[0])\n",
    "        #updata_gradient(origin_net,gradient_info,learning_rate=0.02)\n",
    "        metric.update(label,outputs)\n",
    "        trainer.step(batch.data[0].shape[0])\n",
    "    name,acc = metric.get()\n",
    "    metric.reset()\n",
    "    print('training acc at epoch %d, %s=%f'%(i,name,acc))\n",
    "    # YA DA ZE\n",
    "#updata_gradient(origin_net, gradient_info, learning_rate=0.02)"
   ]
  },
  {
   "cell_type": "code",
   "execution_count": 7,
   "metadata": {},
   "outputs": [],
   "source": [
    "grad_w = gradient_info[\"weight\"]"
   ]
  },
  {
   "cell_type": "code",
   "execution_count": 8,
   "metadata": {},
   "outputs": [
    {
     "output_type": "execute_result",
     "data": {
      "text/plain": "\n[[[[-3.18599200e+00 -9.34846783e+00 -1.43530703e+01 -1.30739603e+01\n    -6.91845226e+00]\n   [-6.50202084e+00 -1.23138132e+01 -1.50071907e+01 -1.15951147e+01\n    -5.85215616e+00]\n   [-3.97536135e+00 -6.17571688e+00 -5.38680601e+00 -2.99157929e+00\n    -2.00498986e+00]\n   [ 1.79946810e-01 -1.55205786e+00  2.14468345e-01  3.80625248e+00\n     3.97456408e+00]\n   [ 2.21792817e+00  3.17987680e-01  1.92008662e+00  5.72566271e+00\n     5.53352594e+00]]]\n\n\n [[[ 5.01327562e+00  7.39579439e+00  3.82502556e+00 -2.99571371e+00\n    -5.14984655e+00]\n   [ 5.84246397e+00  4.46708059e+00 -3.57500005e+00 -1.22951460e+01\n    -1.16523972e+01]\n   [-3.40581346e+00 -1.05188780e+01 -2.17105751e+01 -2.86208515e+01\n    -1.83223839e+01]\n   [-1.05427876e+01 -2.17182331e+01 -3.11569157e+01 -3.06445999e+01\n    -1.52490826e+01]\n   [-8.62746525e+00 -1.48311291e+01 -1.79878521e+01 -1.57289419e+01\n    -7.99687719e+00]]]\n\n\n [[[-2.41066265e+00 -4.00162554e+00 -2.72957897e+00 -1.44467628e+00\n    -2.50280118e+00]\n   [ 1.26913153e-02 -5.59684515e-01 -2.91679114e-01 -6.46708667e-01\n    -1.47894681e+00]\n   [ 1.70226967e+00  3.00737453e+00  2.36991119e+00  6.13034487e-01\n    -9.23134804e-01]\n   [ 8.58610272e-01  1.57369959e+00  1.23956537e+00 -4.38457698e-01\n    -8.92807782e-01]\n   [-5.37893534e-01 -4.28026557e-01 -3.34955305e-02 -7.17549384e-01\n    -3.57604235e-01]]]\n\n\n [[[-6.55190992e+00 -8.32583523e+00 -2.36209321e+00  4.60123444e+00\n     1.16626091e+01]\n   [-1.05736065e+01 -1.64121647e+01 -9.00980282e+00  2.00293851e+00\n     7.15874863e+00]\n   [-1.15119019e+01 -2.35541954e+01 -2.33091068e+01 -1.19782333e+01\n    -3.21972299e+00]\n   [-9.31617355e+00 -2.57287159e+01 -3.21350288e+01 -2.35090084e+01\n    -1.10397892e+01]\n   [-1.59010756e+00 -1.20205173e+01 -1.68639565e+01 -1.54122887e+01\n    -1.01568279e+01]]]\n\n\n [[[ 5.49868155e+00  5.89337969e+00  5.87646246e+00  7.16134131e-01\n    -5.64282942e+00]\n   [ 8.76870537e+00  7.57192087e+00  3.77655983e+00 -4.80577898e+00\n    -9.82637882e+00]\n   [ 6.17944717e+00  3.36453199e+00 -2.05664873e+00 -8.74058437e+00\n    -8.92576981e+00]\n   [ 4.23054457e+00  1.35018766e-01 -7.19889069e+00 -1.09129829e+01\n    -6.40504932e+00]\n   [ 2.06920028e+00 -3.00527167e+00 -8.27544212e+00 -9.30179977e+00\n    -3.41659904e+00]]]\n\n\n [[[ 8.44325304e-01  8.14678133e-01  5.12169242e-01  4.20992404e-01\n     6.35856390e-01]\n   [ 6.71761394e-01  5.49558043e-01  4.14562076e-01  3.90759677e-01\n     5.64541757e-01]\n   [ 4.70595419e-01  2.92611837e-01  1.11219697e-01  9.14493352e-02\n     5.03357112e-01]\n   [ 2.28391916e-01  5.07078730e-02  6.67644525e-03  1.28773898e-02\n     7.55027592e-01]\n   [ 1.34092653e-02 -4.02871286e-03  1.53895305e-03  8.14336538e-02\n     1.08814037e+00]]]]\n<NDArray 6x1x5x5 @gpu(0)>"
     },
     "metadata": {},
     "execution_count": 8
    }
   ],
   "source": [
    "grad_w[0]"
   ]
  },
  {
   "cell_type": "code",
   "execution_count": 9,
   "metadata": {},
   "outputs": [
    {
     "output_type": "execute_result",
     "data": {
      "text/plain": "\n[[[[-3.1859987e+00 -9.3484316e+00 -1.4353036e+01 -1.3073931e+01\n    -6.9184380e+00]\n   [-6.5020003e+00 -1.2313809e+01 -1.5007193e+01 -1.1595118e+01\n    -5.8521600e+00]\n   [-3.9753647e+00 -6.1757288e+00 -5.3867888e+00 -2.9915776e+00\n    -2.0050013e+00]\n   [ 1.7995983e-01 -1.5520632e+00  2.1447539e-01  3.8062532e+00\n     3.9745746e+00]\n   [ 2.2179322e+00  3.1797850e-01  1.9200860e+00  5.7256589e+00\n     5.5335474e+00]]]\n\n\n [[[ 5.0132852e+00  7.3957839e+00  3.8250208e+00 -2.9956918e+00\n    -5.1498432e+00]\n   [ 5.8424864e+00  4.4670734e+00 -3.5749912e+00 -1.2295164e+01\n    -1.1652373e+01]\n   [-3.4058161e+00 -1.0518911e+01 -2.1710587e+01 -2.8620882e+01\n    -1.8322351e+01]\n   [-1.0542776e+01 -2.1718225e+01 -3.1156988e+01 -3.0644632e+01\n    -1.5249116e+01]\n   [-8.6274700e+00 -1.4831153e+01 -1.7987886e+01 -1.5728939e+01\n    -7.9968963e+00]]]\n\n\n [[[-2.4106576e+00 -4.0016222e+00 -2.7295852e+00 -1.4446833e+00\n    -2.5027902e+00]\n   [ 1.2687966e-02 -5.5968779e-01 -2.9167235e-01 -6.4668840e-01\n    -1.4789451e+00]\n   [ 1.7022520e+00  3.0073938e+00  2.3698967e+00  6.1303288e-01\n    -9.2314130e-01]\n   [ 8.5860902e-01  1.5737001e+00  1.2395703e+00 -4.3845719e-01\n    -8.9280236e-01]\n   [-5.3789443e-01 -4.2803755e-01 -3.3492595e-02 -7.1755052e-01\n    -3.5760888e-01]]]\n\n\n [[[-6.5519066e+00 -8.3258286e+00 -2.3620856e+00  4.6012425e+00\n     1.1662637e+01]\n   [-1.0573618e+01 -1.6412182e+01 -9.0097933e+00  2.0029352e+00\n     7.1587439e+00]\n   [-1.1511945e+01 -2.3554296e+01 -2.3309019e+01 -1.1978218e+01\n    -3.2197170e+00]\n   [-9.3162088e+00 -2.5728670e+01 -3.2135071e+01 -2.3508957e+01\n    -1.1039770e+01]\n   [-1.5901059e+00 -1.2020533e+01 -1.6863972e+01 -1.5412221e+01\n    -1.0156870e+01]]]\n\n\n [[[ 5.4986672e+00  5.8934088e+00  5.8764920e+00  7.1613532e-01\n    -5.6428256e+00]\n   [ 8.7687035e+00  7.5719204e+00  3.7765667e+00 -4.8057747e+00\n    -9.8263817e+00]\n   [ 6.1794267e+00  3.3645411e+00 -2.0566602e+00 -8.7405653e+00\n    -8.9257793e+00]\n   [ 4.2305574e+00  1.3502128e-01 -7.1988978e+00 -1.0913006e+01\n    -6.4050603e+00]\n   [ 2.0692017e+00 -3.0052834e+00 -8.2754545e+00 -9.3017998e+00\n    -3.4165852e+00]]]\n\n\n [[[ 8.4431863e-01  8.1467855e-01  5.1216924e-01  4.2097533e-01\n     6.3585436e-01]\n   [ 6.7176187e-01  5.4957235e-01  4.1456223e-01  3.9075994e-01\n     5.6453919e-01]\n   [ 4.7060177e-01  2.9259697e-01  1.1121184e-01  9.1449916e-02\n     5.0334561e-01]\n   [ 2.2839154e-01  5.0716102e-02  6.6861510e-03  1.2868643e-02\n     7.5503272e-01]\n   [ 1.3409182e-02 -4.0173531e-03  1.5467405e-03  8.1438199e-02\n     1.0881417e+00]]]]\n<NDArray 6x1x5x5 @gpu(0)>"
     },
     "metadata": {},
     "execution_count": 9
    }
   ],
   "source": [
    "(origin_net[0].weight.data()[:] - net[0].weight.data()[:])/0.02"
   ]
  },
  {
   "cell_type": "code",
   "execution_count": 7,
   "metadata": {},
   "outputs": [
    {
     "output_type": "stream",
     "name": "stdout",
     "text": "验证集准确率 validation acc:accuracy=0.990000\n"
    }
   ],
   "source": [
    "val_data.reset()\n",
    "for batch in val_data:\n",
    "    data = gluon.utils.split_and_load(batch.data[0],ctx_list=ctx,batch_axis=0)\n",
    "    label = gluon.utils.split_and_load(batch.label[0],ctx_list=ctx,batch_axis=0)\n",
    "    outputs = []\n",
    "    metric = mx.metric.Accuracy()\n",
    "    for x in data:\n",
    "        outputs.append(net(x))\n",
    "    metric.update(label,outputs)\n",
    "print('验证集准确率 validation acc:%s=%f'%metric.get())"
   ]
  },
  {
   "cell_type": "code",
   "execution_count": null,
   "metadata": {},
   "outputs": [],
   "source": []
  }
 ]
}