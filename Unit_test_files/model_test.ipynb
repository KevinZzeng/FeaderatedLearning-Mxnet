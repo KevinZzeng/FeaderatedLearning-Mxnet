{
 "nbformat": 4,
 "nbformat_minor": 2,
 "metadata": {
  "language_info": {
   "name": "python",
   "codemirror_mode": {
    "name": "ipython",
    "version": 3
   },
   "version": "3.7.4-final"
  },
  "orig_nbformat": 2,
  "file_extension": ".py",
  "mimetype": "text/x-python",
  "name": "python",
  "npconvert_exporter": "python",
  "pygments_lexer": "ipython3",
  "version": 3,
  "kernelspec": {
   "name": "python37464bit000112c82aae46049a43b9e45b233c07",
   "display_name": "Python 3.7.4 64-bit"
  }
 },
 "cells": [
  {
   "cell_type": "code",
   "execution_count": 1,
   "metadata": {},
   "outputs": [],
   "source": [
    "import sys\n",
    "path_base = \"E:\\\\PythonProjects\\\\Mxnet_FederatedLearning\"\n",
    "sys.path.append(path_base)\n",
    "from Tools import utils\n",
    "import mxnet as mx\n",
    "from mxnet import gluon\n",
    "from mxnet.gluon import nn\n",
    "from mxnet import autograd as ag\n",
    "from mxnet import ndarray as nd\n",
    "from Algorithm.CNN import CNN_Model"
   ]
  },
  {
   "cell_type": "code",
   "execution_count": 2,
   "metadata": {},
   "outputs": [
    {
     "output_type": "stream",
     "name": "stdout",
     "text": "验证集准确率 validation acc:accuracy=0.820000\n"
    }
   ],
   "source": [
    "net = CNN_Model(\"LeNet\")\n",
    "ctx = utils.try_all_gpus()\n",
    "net.load_parameters(\"current_model.params\",ctx=ctx)\n",
    "\n",
    "mnist = mx.test_utils.get_mnist()\n",
    "val_data = mx.io.NDArrayIter(mnist['test_data'],mnist['test_label'],batch_size=100)\n",
    "for batch in val_data:\n",
    "    data = gluon.utils.split_and_load(batch.data[0],ctx_list=ctx,batch_axis=0)\n",
    "    label = gluon.utils.split_and_load(batch.label[0],ctx_list=ctx,batch_axis=0)\n",
    "    outputs = []\n",
    "    metric = mx.metric.Accuracy()  \n",
    "    for x in data:\n",
    "        outputs.append(net(x))\n",
    "    metric.update(label,outputs)\n",
    "print('验证集准确率 validation acc:%s=%f'%metric.get())\n",
    ""
   ]
  },
  {
   "cell_type": "code",
   "execution_count": null,
   "metadata": {},
   "outputs": [],
   "source": []
  }
 ]
}