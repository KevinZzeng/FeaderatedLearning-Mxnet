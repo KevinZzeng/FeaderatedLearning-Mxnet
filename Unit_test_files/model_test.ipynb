{
 "nbformat": 4,
 "nbformat_minor": 2,
 "metadata": {
  "language_info": {
   "name": "python",
   "codemirror_mode": {
    "name": "ipython",
    "version": 3
   },
   "version": "3.7.4-final"
  },
  "orig_nbformat": 2,
  "file_extension": ".py",
  "mimetype": "text/x-python",
  "name": "python",
  "npconvert_exporter": "python",
  "pygments_lexer": "ipython3",
  "version": 3,
  "kernelspec": {
   "name": "python37464bit000112c82aae46049a43b9e45b233c07",
   "display_name": "Python 3.7.4 64-bit"
  }
 },
 "cells": [
  {
   "cell_type": "code",
   "execution_count": 1,
   "metadata": {},
   "outputs": [],
   "source": [
    "import sys\n",
    "path_base = \"E:\\\\PythonProjects\\\\Mxnet_FederatedLearning\"\n",
    "sys.path.append(path_base)\n",
    "\n",
    "import mxnet as mx\n",
    "from mxnet import gluon\n",
    "from mxnet.gluon import nn\n",
    "from mxnet import autograd as ag\n",
    "from mxnet import ndarray as nd\n",
    "from Algorithm.CNN import CNN_Model"
   ]
  },
  {
   "cell_type": "code",
   "execution_count": 2,
   "metadata": {},
   "outputs": [],
   "source": [
    "client = CNN_Model(\"LeNet\")\n",
    "client.load_parameters(\"recv_model.params\")\n",
    "server = CNN_Model(\"LeNet\")\n",
    "server.load_parameters(\"current_model_2.params\")\n",
    ""
   ]
  },
  {
   "cell_type": "markdown",
   "metadata": {},
   "source": [
    "client[0].weight.data() == server[0].weight.data()\n",
    "模型传输无误"
   ]
  },
  {
   "cell_type": "code",
   "execution_count": 4,
   "metadata": {},
   "outputs": [
    {
     "output_type": "execute_result",
     "data": {
      "text/plain": "\n[[[[ 1.77505575e-02  4.81163375e-02  1.09342724e-01  1.54048234e-01\n     5.63607812e-02]\n   [ 1.45203546e-01  4.90749925e-02  1.48850054e-01  1.62559934e-03\n     5.68911657e-02]\n   [ 9.05612856e-02 -6.83308393e-03 -7.08275288e-03 -6.23653121e-02\n     1.19982414e-01]\n   [-1.05310187e-01  1.58054695e-01 -8.88830572e-02 -6.19318336e-02\n    -2.86517218e-02]\n   [ 1.09213151e-01  8.80456120e-02 -1.25527531e-02 -3.47774737e-02\n    -6.13687374e-03]]]\n\n\n [[[-5.30483350e-02  1.25483334e-01  1.08180441e-01 -1.25938743e-01\n    -3.25195752e-02]\n   [-1.44933835e-01  4.55652066e-02 -1.51658893e-01 -2.78209411e-02\n     1.23083055e-01]\n   [ 1.50716484e-01  1.07294597e-01 -8.54113773e-02  1.57774985e-01\n     1.43607989e-01]\n   [ 1.59544513e-01  1.50723476e-02  1.39550954e-01  1.39570236e-01\n     2.78100837e-03]\n   [ 1.32653154e-02  1.19865835e-01  9.29495841e-02 -9.52436179e-02\n     7.84345046e-02]]]\n\n\n [[[-1.36709101e-02  1.65731028e-01  7.73786530e-02  1.36999145e-01\n    -1.61304116e-01]\n   [-1.11842409e-01 -5.86535148e-02  1.67596638e-01 -1.09885789e-01\n    -9.04229432e-02]\n   [-1.35369793e-01 -3.64305265e-02 -9.63457525e-02 -3.44340093e-02\n    -5.92605807e-02]\n   [ 3.82231027e-02 -5.15293628e-02  1.24133758e-01  1.71761028e-04\n     9.66000855e-02]\n   [-4.07153070e-02 -8.02512318e-02  3.43984440e-02 -4.62051202e-03\n    -1.02560773e-01]]]\n\n\n [[[-1.25576174e-02  1.16538614e-01 -9.58524942e-02 -1.55769423e-01\n     9.23961494e-03]\n   [ 5.29367365e-02  1.34735599e-01 -2.46272124e-02 -4.24494036e-03\n     3.46417874e-02]\n   [-2.25653835e-02 -9.46517736e-02  1.80027634e-01 -4.98879440e-02\n     1.22789621e-01]\n   [ 1.06350482e-01  1.07383020e-01  2.08598003e-01  1.51028827e-01\n    -3.04532759e-02]\n   [-1.26980633e-01  9.51344818e-02  5.45044355e-02  1.56968281e-01\n     1.30466387e-01]]]\n\n\n [[[-2.43123434e-02 -1.06363542e-01 -1.55815393e-01  1.26734912e-01\n     4.52829711e-03]\n   [ 1.32783979e-01 -2.79198475e-02 -1.24778468e-02 -3.54109928e-02\n    -6.59070536e-02]\n   [-5.67474924e-02 -1.15904540e-01 -1.00302882e-01  5.50276153e-02\n     3.32064405e-02]\n   [-1.23588264e-01 -6.90992102e-02 -8.39356799e-03 -7.66874999e-02\n     4.21911031e-02]\n   [ 3.34968269e-02  1.02076329e-01  1.36125321e-02  6.05590492e-02\n    -1.13686346e-01]]]\n\n\n [[[-1.19478935e-02 -4.19095997e-03  2.56124102e-02 -1.02680065e-01\n     6.26928732e-02]\n   [ 7.78387859e-02 -8.57413262e-02  1.08993977e-01  7.47266551e-03\n    -1.22946277e-02]\n   [-3.90712768e-02  1.04106374e-01 -1.11739278e-01 -1.41535133e-01\n     1.42339438e-01]\n   [ 1.89240847e-03 -6.59349710e-02 -1.39606357e-01 -6.72040135e-02\n    -2.73722690e-02]\n   [-1.22045837e-01 -1.29113600e-01 -1.01714209e-01 -1.17363177e-01\n    -5.53244911e-03]]]]\n<NDArray 6x1x5x5 @cpu(0)>"
     },
     "metadata": {},
     "execution_count": 4
    }
   ],
   "source": [
    "server[0].weight.data()"
   ]
  },
  {
   "cell_type": "code",
   "execution_count": null,
   "metadata": {},
   "outputs": [],
   "source": []
  }
 ]
}