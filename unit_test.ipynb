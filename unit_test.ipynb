{
 "cells": [
  {
   "cell_type": "code",
   "execution_count": 1,
   "metadata": {},
   "outputs": [],
   "source": [
    "import json"
   ]
  },
  {
   "cell_type": "code",
   "execution_count": 9,
   "metadata": {},
   "outputs": [
    {
     "name": "stdout",
     "output_type": "stream",
     "text": "{'input_shape': [1, 28, 28], 'layers': {'layer_depth': 3, 'Dense0': {'nodes': 128, 'activation': 'relu'}, 'Dense1': {'nodes': 64, 'activation': 'relu'}, 'Dense2': {'nondes': 10}}}\n"
    }
   ],
   "source": [
    "jsonPath = \"E:\\PythonProjects\\Mxnet_FederatedLearning\\Config\\\\network_define.json\"\n",
    "with open(jsonPath,'r') as f:\n",
    "    data = json.load(f)\n",
    "print(data)"
   ]
  },
  {
   "cell_type": "code",
   "execution_count": 10,
   "metadata": {},
   "outputs": [
    {
     "data": {
      "text/plain": "{'input_shape': [1, 28, 28],\n 'layers': {'layer_depth': 3,\n  'Dense0': {'nodes': 128, 'activation': 'relu'},\n  'Dense1': {'nodes': 64, 'activation': 'relu'},\n  'Dense2': {'nondes': 10}}}"
     },
     "execution_count": 10,
     "metadata": {},
     "output_type": "execute_result"
    }
   ],
   "source": [
    "data"
   ]
  },
  {
   "cell_type": "code",
   "execution_count": 11,
   "metadata": {},
   "outputs": [],
   "source": [
    "input_shape = tuple(data['input_shape'])"
   ]
  },
  {
   "cell_type": "code",
   "execution_count": 12,
   "metadata": {},
   "outputs": [
    {
     "data": {
      "text/plain": "(1, 28, 28)"
     },
     "execution_count": 12,
     "metadata": {},
     "output_type": "execute_result"
    }
   ],
   "source": [
    "input_shape"
   ]
  },
  {
   "cell_type": "code",
   "execution_count": 13,
   "metadata": {},
   "outputs": [],
   "source": [
    "layer_info = data['layers']"
   ]
  },
  {
   "cell_type": "code",
   "execution_count": 14,
   "metadata": {},
   "outputs": [
    {
     "data": {
      "text/plain": "{'layer_depth': 3,\n 'Dense0': {'nodes': 128, 'activation': 'relu'},\n 'Dense1': {'nodes': 64, 'activation': 'relu'},\n 'Dense2': {'nondes': 10}}"
     },
     "execution_count": 14,
     "metadata": {},
     "output_type": "execute_result"
    }
   ],
   "source": [
    "layer_info"
   ]
  },
  {
   "cell_type": "code",
   "execution_count": 15,
   "metadata": {},
   "outputs": [
    {
     "output_type": "stream",
     "name": "stdout",
     "text": "layer_depth 3\nDense0 {'nodes': 128, 'activation': 'relu'}\nDense1 {'nodes': 64, 'activation': 'relu'}\nDense2 {'nondes': 10}\n"
    }
   ],
   "source": [
    "for key,value in layer_info.items():\n",
    "    print(key,value)"
   ]
  },
  {
   "cell_type": "code",
   "execution_count": 16,
   "metadata": {},
   "outputs": [
    {
     "output_type": "stream",
     "name": "stdout",
     "text": "1\n"
    }
   ],
   "source": [
    "key = \"Conv2D_0\"\n",
    "if \"Conv2D\" in key:\n",
    "    print(1)"
   ]
  },
  {
   "cell_type": "code",
   "execution_count": null,
   "metadata": {},
   "outputs": [],
   "source": []
  }
 ],
 "metadata": {
  "kernelspec": {
   "display_name": "Python 3",
   "language": "python",
   "name": "python3"
  },
  "language_info": {
   "codemirror_mode": {
    "name": "ipython",
    "version": 3
   },
   "file_extension": ".py",
   "mimetype": "text/x-python",
   "name": "python",
   "nbconvert_exporter": "python",
   "pygments_lexer": "ipython3",
   "version": "3.7.4-final"
  }
 },
 "nbformat": 4,
 "nbformat_minor": 2
}