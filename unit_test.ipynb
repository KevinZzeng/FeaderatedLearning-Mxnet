{
 "cells": [
  {
   "cell_type": "code",
   "execution_count": 1,
   "metadata": {},
   "outputs": [],
   "source": [
    "from mxnet import ndarray as nd\n",
    "import mxnet as mx\n",
    "from mxnet.gluon import nn\n",
    "from mxnet import gluon"
   ]
  },
  {
   "cell_type": "code",
   "execution_count": 2,
   "metadata": {},
   "outputs": [],
   "source": [
    "net = nn.Sequential()\n",
    "net.add(nn.Dense(128,activation='relu'))\n",
    "net.add(nn.Dense(64,activation='relu'))\n",
    "net.add(nn.Dense(10))\n",
    "input_shape = (1,28,28)\n"
   ]
  },
  {
   "cell_type": "code",
   "execution_count": 4,
   "metadata": {},
   "outputs": [
    {
     "data": {
      "text/plain": "\n[[ 0.5636209   0.17707197 -0.09491384  0.28692648  0.07168481 -0.06108518\n   0.38949418  0.16036497  0.37327743 -0.04009286]]\n<NDArray 1x10 @gpu(0)>"
     },
     "execution_count": 4,
     "metadata": {},
     "output_type": "execute_result"
    }
   ],
   "source": [
    "ctx = [mx.gpu()]\n",
    "net.initialize(mx.init.Xavier(magnitude=2.24),ctx=ctx)\n",
    "# Mxnet特性：神经网络在第一次前向传播时初始化\n",
    "# 因此初始化神经网络时需要做一次随机前向传播\n",
    "net(nd.random.uniform(shape=input_shape,ctx=ctx[0]))\n",
    "    "
   ]
  },
  {
   "cell_type": "code",
   "execution_count": 5,
   "metadata": {},
   "outputs": [
    {
     "data": {
      "text/plain": "Dense(784 -> 128, Activation(relu))"
     },
     "execution_count": 5,
     "metadata": {},
     "output_type": "execute_result"
    }
   ],
   "source": [
    "net[0]"
   ]
  },
  {
   "cell_type": "code",
   "execution_count": 9,
   "metadata": {},
   "outputs": [],
   "source": [
    "test = net[0].weight.data()[:]"
   ]
  },
  {
   "cell_type": "code",
   "execution_count": 10,
   "metadata": {},
   "outputs": [
    {
     "data": {
      "text/plain": "\n[[ 0.00684245  0.01301453  0.03016423 ...  0.04115127 -0.0447928\n  -0.02196476]\n [ 0.05234559 -0.0685297   0.06567784 ... -0.03396226  0.01955298\n  -0.04929858]\n [-0.03878776 -0.02429853  0.00324693 ... -0.02933703 -0.00237525\n  -0.00157413]\n ...\n [ 0.02152947 -0.04127859 -0.05396653 ... -0.04758476  0.00495832\n  -0.03560241]\n [ 0.01598034  0.05755057  0.06023888 ... -0.01171412 -0.01080731\n   0.0321511 ]\n [ 0.04746842  0.01717804  0.02904288 ...  0.02043695 -0.04642513\n  -0.02782338]]\n<NDArray 128x784 @gpu(0)>"
     },
     "execution_count": 10,
     "metadata": {},
     "output_type": "execute_result"
    }
   ],
   "source": [
    "test"
   ]
  },
  {
   "cell_type": "code",
   "execution_count": 11,
   "metadata": {},
   "outputs": [
    {
     "data": {
      "text/plain": "\n[[-0.04163705 -0.05344895  0.02144545 ... -0.11416268  0.11710194\n   0.05810845]\n [ 0.13862053  0.09110172  0.01350582 ...  0.05885573 -0.1132526\n   0.07703005]\n [ 0.038167   -0.1382699   0.12082759 ...  0.13215986  0.13550374\n  -0.1267525 ]\n ...\n [ 0.14809904  0.04074837  0.00947204 ... -0.11959229 -0.05536778\n   0.00356057]\n [ 0.05001102 -0.02192807 -0.09722202 ... -0.06633429 -0.00254634\n   0.05555394]\n [ 0.00310361 -0.12117757  0.04927482 ... -0.09655102  0.05398586\n   0.13996577]]\n<NDArray 64x128 @gpu(0)>"
     },
     "execution_count": 11,
     "metadata": {},
     "output_type": "execute_result"
    }
   ],
   "source": [
    "net[1].weight.data()"
   ]
  },
  {
   "cell_type": "code",
   "execution_count": 13,
   "metadata": {},
   "outputs": [],
   "source": [
    "weight = []\n",
    "weight.append(net[0].weight.data()[:])"
   ]
  },
  {
   "cell_type": "code",
   "execution_count": 14,
   "metadata": {},
   "outputs": [
    {
     "output_type": "execute_result",
     "data": {
      "text/plain": "\n[[ 0.00684245  0.01301453  0.03016423 ...  0.04115127 -0.0447928\n  -0.02196476]\n [ 0.05234559 -0.0685297   0.06567784 ... -0.03396226  0.01955298\n  -0.04929858]\n [-0.03878776 -0.02429853  0.00324693 ... -0.02933703 -0.00237525\n  -0.00157413]\n ...\n [ 0.02152947 -0.04127859 -0.05396653 ... -0.04758476  0.00495832\n  -0.03560241]\n [ 0.01598034  0.05755057  0.06023888 ... -0.01171412 -0.01080731\n   0.0321511 ]\n [ 0.04746842  0.01717804  0.02904288 ...  0.02043695 -0.04642513\n  -0.02782338]]\n<NDArray 128x784 @gpu(0)>"
     },
     "metadata": {},
     "execution_count": 14
    }
   ],
   "source": [
    "weight[0]"
   ]
  },
  {
   "cell_type": "code",
   "execution_count": null,
   "metadata": {},
   "outputs": [],
   "source": []
  }
 ],
 "metadata": {
  "kernelspec": {
   "display_name": "Python 3",
   "language": "python",
   "name": "python3"
  },
  "language_info": {
   "codemirror_mode": {
    "name": "ipython",
    "version": 3
   },
   "file_extension": ".py",
   "mimetype": "text/x-python",
   "name": "python",
   "nbconvert_exporter": "python",
   "pygments_lexer": "ipython3",
   "version": "3.7.4-final"
  }
 },
 "nbformat": 4,
 "nbformat_minor": 2
}